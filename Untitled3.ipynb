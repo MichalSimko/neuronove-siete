{
 "cells": [
  {
   "cell_type": "code",
   "execution_count": 1,
   "metadata": {},
   "outputs": [],
   "source": [
    "import pandas as pd# importovanie potrebných knižníc \n",
    "import numpy as np\n",
    "import matplotlib.pyplot as plt\n",
    "%matplotlib inline\n",
    "import seaborn as sns\n",
    "sns.set(style=\"whitegrid\")\n",
    "from sklearn.model_selection import train_test_split\n",
    "from sklearn.preprocessing import LabelEncoder"
   ]
  },
  {
   "cell_type": "code",
   "execution_count": 2,
   "metadata": {},
   "outputs": [
    {
     "name": "stderr",
     "output_type": "stream",
     "text": [
      "C:\\Users\\micha\\anaconda3\\lib\\site-packages\\IPython\\core\\interactiveshell.py:3146: DtypeWarning: Columns (4,6,31,33,61,62,63,76,79,90,92,94,96,114,115,121) have mixed types.Specify dtype option on import or set low_memory=False.\n",
      "  has_raised = await self.run_ast_nodes(code_ast.body, cell_name,\n"
     ]
    }
   ],
   "source": [
    "data = pd.read_csv(\"globalterrorismdb_0718sdist.csv\",encoding='latin1') # načítanie môjho datasetu"
   ]
  },
  {
   "cell_type": "code",
   "execution_count": 3,
   "metadata": {},
   "outputs": [],
   "source": [
    "  #  teraz je čas definovať potrebné funkcie\n",
    "def drop(feature) :  # vyčistenie datasetu od nepotrebných a navyše daných hodnot pomoocu prikazu drop ktorú budeme nižšie používať \n",
    "    global data\n",
    "    data.drop([feature],axis=1, inplace=True)\n",
    "    data.head()\n",
    "\n",
    "def unique(feature) : \n",
    "    global data\n",
    "    print(f'Number of unique vaure are {len(list(data[feature].unique()))} which are : \\n {list(data[feature].unique())}')\n",
    "# Počet jedinečných hodnôt je( spočítanie a najdenie naších hodnôt)\n",
    "def unique_all(show_value = True) : \n",
    "    global data\n",
    "    for col in data.columns : \n",
    "        print(f'Length of unique data for   {col}   is    {len(data[col].unique())} ')  #  Dĺžka jedinečných údajov pre daný stlpec\n",
    "        if show_value == True  : \n",
    "            print(f'unique values ae {data[col].unique()}' )    #jedinečné hodnoty pre stpce (hodnoty ktoré nie sú null)\n",
    "            print('-----------------------------')\n",
    "\n",
    "def drop_nulls(percentage = 0.3) :  # čistenie null dat ktoré nášmu datasetu nepomáhajú z percentilom 0.3 \n",
    "    global data # cela databáza\n",
    "    for col in data.columns :  #hodnoty  jednotlivých stplcou v datasete \n",
    "        ratio =  data[col].isna().sum()/data.shape[0] #počítanie práznich hodnôt pre zistie null hodnôt \n",
    "        if ratio >= percentage :  #  # percentil 03 musí byť menší ako hodnota ratio kde máme null hodnoty\n",
    "            data.drop([col],axis=1, inplace=True) # vymaže hodnoty na potrebný percentil\n",
    "            print(f'Column {col} has been dropped since nulls percentage is {round(ratio *100)} %')  \n",
    " # f Stĺpec {col} bol vypustený, pretože percentuálne hodnoty null sú v tomto stplcí\n",
    "def count_nulls() :  #metóda na počítanie null hodnot aby sme vedeli koľko ich máme odstraniť \n",
    "    global data\n",
    "    for col in data.columns : \n",
    "        if not data[col].isna().sum() == 0 : \n",
    "            print(f'Column {col} has been number of nulls {data[col].isna().sum()}') \n",
    " # f Stĺpec {col} spočíta nám koľko null hodnout sa nám nachádza v datasete \n",
    "\n",
    "def fillna(feature , val = 'none') :  #zitujen nám prazdne hodnoty z celeho datasetu\n",
    "    global data\n",
    "    data[feature].fillna(val, inplace=True)\n",
    "\n",
    "def cplot(feature) :  #  nastavenie farby rozmery a ramček z nášho datasetu \n",
    "    global data\n",
    "    sns.countplot(x=feature, data=data,facecolor=(0, 0, 0, 0),linewidth=5,edgecolor=sns.color_palette(\"dark\", 3))\n",
    "\n",
    "def spie(series) :  # upravenie velkosti hodnot a labelu \n",
    "    global data\n",
    "    plt.pie(series.values,labels=list(series.index),autopct ='%1.2f%%',labeldistance = 1.1,explode = [0.05 for i in range(len(series.values))])\n",
    "    plt.show()\n",
    "\n",
    "def pie(feature) :  # ukáže nám hodnoty,počtu a upravy tak aby medzi nimy neboli prázdne polia\n",
    "    global data\n",
    "    plt.pie(data[feature].value_counts(),labels=list(data[feature].value_counts().index),\n",
    "        autopct ='%1.2f%%' , labeldistance = 1.1,explode = [0.05 for i in range(len(data[feature].value_counts()))] )\n",
    "    plt.show()\n",
    "\n",
    "def make_xy(feature) :  #  vymazava prázdne stplce a nahrádza ich hodnotou y \n",
    "    global data\n",
    "    X = data.drop([feature], axis=1, inplace=False)\n",
    "    y = data[feature]\n",
    "    return X , y\n",
    "   \n",
    "def encoder(feature , new_feature, drop = True) :  #  vytorí new_feature na zklade starého ktorý je už upravený\n",
    "    global data\n",
    "    enc  = LabelEncoder()\n",
    "    enc.fit(data[feature])\n",
    "    data[new_feature] = enc.transform(data[feature])\n",
    "    if drop == True : \n",
    "        data.drop([feature],axis=1, inplace=True)\n",
    "    \n",
    "def max_counts(feature, number, return_rest = False) :  #  počíta nám stplce a riadky, a hodnoty či sme data set upravyli dobre \n",
    "    global data\n",
    "    counts = data[feature].value_counts()\n",
    "    values_list = list(counts[:number].values)\n",
    "    rest_value =  sum(counts.values) - sum (values_list)\n",
    "    index_list = list(counts[:number].index)\n",
    "\n",
    "    if return_rest : \n",
    "        values_list.append(rest_value )\n",
    "        index_list.append('rest items')\n",
    "\n",
    "    result = pd.Series(values_list, index=index_list)# tu nám vrati hodnoty do result indexove a hodnoty listu \n",
    "\n",
    "    if len(data[feature]) <= number :  # chybovosť ak by vratilo resut prázni \n",
    "        result = None\n",
    "    return result\n",
    "\n",
    "def remove_zero(feature , val = 0) :  # vymaže zo súbora data čiže všetky dropnute ktoré sme hore dropli \n",
    "    global data\n",
    "    data = data[data[feature] != val] # uloženie do datasetu \n",
    "    \n",
    "def show_details() : # zobrazí nam hodnoty ktoré sme v celej funkcii použili \n",
    "    global data\n",
    "    for col in data.columns : \n",
    "        print(f'for feature : {col}')\n",
    "        print(f'Number of Nulls is   {data[col].isna().sum()}')\n",
    "        print(f'Number of Unique values is   {len(data[col].unique())}')\n",
    "        print(f'random Value {data[col][0]}')\n",
    "        print(f'random Value {data[col][10]}')\n",
    "        print(f'random Value {data[col][20]}')\n",
    "        print('--------------------------')"
   ]
  },
  {
   "cell_type": "code",
   "execution_count": 4,
   "metadata": {},
   "outputs": [
    {
     "data": {
      "text/plain": [
       "(181691, 135)"
      ]
     },
     "execution_count": 4,
     "metadata": {},
     "output_type": "execute_result"
    }
   ],
   "source": [
    "data.shape # zobrazí nam stlpci a riadky "
   ]
  },
  {
   "cell_type": "code",
   "execution_count": 5,
   "metadata": {},
   "outputs": [
    {
     "name": "stdout",
     "output_type": "stream",
     "text": [
      "Column approxdate has been dropped since nulls percentage is 95 %\n",
      "Column resolution has been dropped since nulls percentage is 99 %\n",
      "Column location has been dropped since nulls percentage is 69 %\n",
      "Column summary has been dropped since nulls percentage is 36 %\n",
      "Column alternative has been dropped since nulls percentage is 84 %\n",
      "Column alternative_txt has been dropped since nulls percentage is 84 %\n",
      "Column attacktype2 has been dropped since nulls percentage is 97 %\n",
      "Column attacktype2_txt has been dropped since nulls percentage is 97 %\n",
      "Column attacktype3 has been dropped since nulls percentage is 100 %\n",
      "Column attacktype3_txt has been dropped since nulls percentage is 100 %\n",
      "Column targtype2 has been dropped since nulls percentage is 94 %\n",
      "Column targtype2_txt has been dropped since nulls percentage is 94 %\n",
      "Column targsubtype2 has been dropped since nulls percentage is 94 %\n",
      "Column targsubtype2_txt has been dropped since nulls percentage is 94 %\n",
      "Column corp2 has been dropped since nulls percentage is 94 %\n",
      "Column target2 has been dropped since nulls percentage is 94 %\n",
      "Column natlty2 has been dropped since nulls percentage is 94 %\n",
      "Column natlty2_txt has been dropped since nulls percentage is 94 %\n",
      "Column targtype3 has been dropped since nulls percentage is 99 %\n",
      "Column targtype3_txt has been dropped since nulls percentage is 99 %\n",
      "Column targsubtype3 has been dropped since nulls percentage is 99 %\n",
      "Column targsubtype3_txt has been dropped since nulls percentage is 99 %\n",
      "Column corp3 has been dropped since nulls percentage is 99 %\n",
      "Column target3 has been dropped since nulls percentage is 99 %\n",
      "Column natlty3 has been dropped since nulls percentage is 99 %\n",
      "Column natlty3_txt has been dropped since nulls percentage is 99 %\n",
      "Column gsubname has been dropped since nulls percentage is 97 %\n",
      "Column gname2 has been dropped since nulls percentage is 99 %\n",
      "Column gsubname2 has been dropped since nulls percentage is 100 %\n",
      "Column gname3 has been dropped since nulls percentage is 100 %\n",
      "Column gsubname3 has been dropped since nulls percentage is 100 %\n",
      "Column motive has been dropped since nulls percentage is 72 %\n",
      "Column guncertain2 has been dropped since nulls percentage is 99 %\n",
      "Column guncertain3 has been dropped since nulls percentage is 100 %\n",
      "Column nperps has been dropped since nulls percentage is 39 %\n",
      "Column nperpcap has been dropped since nulls percentage is 38 %\n",
      "Column claimed has been dropped since nulls percentage is 36 %\n",
      "Column claimmode has been dropped since nulls percentage is 89 %\n",
      "Column claimmode_txt has been dropped since nulls percentage is 89 %\n",
      "Column claim2 has been dropped since nulls percentage is 99 %\n",
      "Column claimmode2 has been dropped since nulls percentage is 100 %\n",
      "Column claimmode2_txt has been dropped since nulls percentage is 100 %\n",
      "Column claim3 has been dropped since nulls percentage is 100 %\n",
      "Column claimmode3 has been dropped since nulls percentage is 100 %\n",
      "Column claimmode3_txt has been dropped since nulls percentage is 100 %\n",
      "Column compclaim has been dropped since nulls percentage is 97 %\n",
      "Column weaptype2 has been dropped since nulls percentage is 93 %\n",
      "Column weaptype2_txt has been dropped since nulls percentage is 93 %\n",
      "Column weapsubtype2 has been dropped since nulls percentage is 94 %\n",
      "Column weapsubtype2_txt has been dropped since nulls percentage is 94 %\n",
      "Column weaptype3 has been dropped since nulls percentage is 99 %\n",
      "Column weaptype3_txt has been dropped since nulls percentage is 99 %\n",
      "Column weapsubtype3 has been dropped since nulls percentage is 99 %\n",
      "Column weapsubtype3_txt has been dropped since nulls percentage is 99 %\n",
      "Column weaptype4 has been dropped since nulls percentage is 100 %\n",
      "Column weaptype4_txt has been dropped since nulls percentage is 100 %\n",
      "Column weapsubtype4 has been dropped since nulls percentage is 100 %\n",
      "Column weapsubtype4_txt has been dropped since nulls percentage is 100 %\n",
      "Column weapdetail has been dropped since nulls percentage is 37 %\n",
      "Column nkillus has been dropped since nulls percentage is 35 %\n",
      "Column nkillter has been dropped since nulls percentage is 37 %\n",
      "Column nwoundus has been dropped since nulls percentage is 36 %\n",
      "Column nwoundte has been dropped since nulls percentage is 38 %\n",
      "Column propextent has been dropped since nulls percentage is 65 %\n",
      "Column propextent_txt has been dropped since nulls percentage is 65 %\n",
      "Column propvalue has been dropped since nulls percentage is 79 %\n",
      "Column propcomment has been dropped since nulls percentage is 68 %\n",
      "Column nhostkid has been dropped since nulls percentage is 93 %\n",
      "Column nhostkidus has been dropped since nulls percentage is 93 %\n",
      "Column nhours has been dropped since nulls percentage is 98 %\n",
      "Column ndays has been dropped since nulls percentage is 96 %\n",
      "Column divert has been dropped since nulls percentage is 100 %\n",
      "Column kidhijcountry has been dropped since nulls percentage is 98 %\n",
      "Column ransom has been dropped since nulls percentage is 57 %\n",
      "Column ransomamt has been dropped since nulls percentage is 99 %\n",
      "Column ransomamtus has been dropped since nulls percentage is 100 %\n",
      "Column ransompaid has been dropped since nulls percentage is 100 %\n",
      "Column ransompaidus has been dropped since nulls percentage is 100 %\n",
      "Column ransomnote has been dropped since nulls percentage is 100 %\n",
      "Column hostkidoutcome has been dropped since nulls percentage is 94 %\n",
      "Column hostkidoutcome_txt has been dropped since nulls percentage is 94 %\n",
      "Column nreleased has been dropped since nulls percentage is 94 %\n",
      "Column addnotes has been dropped since nulls percentage is 84 %\n",
      "Column scite1 has been dropped since nulls percentage is 36 %\n",
      "Column scite2 has been dropped since nulls percentage is 58 %\n",
      "Column scite3 has been dropped since nulls percentage is 76 %\n",
      "Column related has been dropped since nulls percentage is 86 %\n"
     ]
    }
   ],
   "source": [
    "drop_nulls() # funkcia  drop null nam ukazuje na koľko pecent bola uspeššna z daných stplcou \n"
   ]
  },
  {
   "cell_type": "code",
   "execution_count": 6,
   "metadata": {},
   "outputs": [
    {
     "data": {
      "text/plain": [
       "(181691, 48)"
      ]
     },
     "execution_count": 6,
     "metadata": {},
     "output_type": "execute_result"
    }
   ],
   "source": [
    "data.shape # vidíme očistený dataset "
   ]
  },
  {
   "cell_type": "code",
   "execution_count": 7,
   "metadata": {
    "scrolled": true
   },
   "outputs": [],
   "source": [
    "drop('eventid')  # dropujeme nepotrebne indexi \n",
    "drop('country')\n",
    "drop('region')\n",
    "drop('attacktype1')\n",
    "drop('targtype1')\n",
    "drop('targsubtype1')\n",
    "drop('natlty1')\n",
    "drop('weaptype1')\n",
    "drop('weapsubtype1')"
   ]
  },
  {
   "cell_type": "code",
   "execution_count": 8,
   "metadata": {},
   "outputs": [
    {
     "data": {
      "text/html": [
       "<div>\n",
       "<style scoped>\n",
       "    .dataframe tbody tr th:only-of-type {\n",
       "        vertical-align: middle;\n",
       "    }\n",
       "\n",
       "    .dataframe tbody tr th {\n",
       "        vertical-align: top;\n",
       "    }\n",
       "\n",
       "    .dataframe thead th {\n",
       "        text-align: right;\n",
       "    }\n",
       "</style>\n",
       "<table border=\"1\" class=\"dataframe\">\n",
       "  <thead>\n",
       "    <tr style=\"text-align: right;\">\n",
       "      <th></th>\n",
       "      <th>iyear</th>\n",
       "      <th>imonth</th>\n",
       "      <th>iday</th>\n",
       "      <th>extended</th>\n",
       "      <th>country_txt</th>\n",
       "      <th>region_txt</th>\n",
       "      <th>provstate</th>\n",
       "      <th>city</th>\n",
       "      <th>latitude</th>\n",
       "      <th>longitude</th>\n",
       "      <th>...</th>\n",
       "      <th>weapsubtype1_txt</th>\n",
       "      <th>nkill</th>\n",
       "      <th>nwound</th>\n",
       "      <th>property</th>\n",
       "      <th>ishostkid</th>\n",
       "      <th>dbsource</th>\n",
       "      <th>INT_LOG</th>\n",
       "      <th>INT_IDEO</th>\n",
       "      <th>INT_MISC</th>\n",
       "      <th>INT_ANY</th>\n",
       "    </tr>\n",
       "  </thead>\n",
       "  <tbody>\n",
       "    <tr>\n",
       "      <th>0</th>\n",
       "      <td>1970</td>\n",
       "      <td>7</td>\n",
       "      <td>2</td>\n",
       "      <td>0</td>\n",
       "      <td>Dominican Republic</td>\n",
       "      <td>Central America &amp; Caribbean</td>\n",
       "      <td>NaN</td>\n",
       "      <td>Santo Domingo</td>\n",
       "      <td>18.456792</td>\n",
       "      <td>-69.951164</td>\n",
       "      <td>...</td>\n",
       "      <td>NaN</td>\n",
       "      <td>1.0</td>\n",
       "      <td>0.0</td>\n",
       "      <td>0</td>\n",
       "      <td>0.0</td>\n",
       "      <td>PGIS</td>\n",
       "      <td>0</td>\n",
       "      <td>0</td>\n",
       "      <td>0</td>\n",
       "      <td>0</td>\n",
       "    </tr>\n",
       "    <tr>\n",
       "      <th>1</th>\n",
       "      <td>1970</td>\n",
       "      <td>0</td>\n",
       "      <td>0</td>\n",
       "      <td>0</td>\n",
       "      <td>Mexico</td>\n",
       "      <td>North America</td>\n",
       "      <td>Federal</td>\n",
       "      <td>Mexico city</td>\n",
       "      <td>19.371887</td>\n",
       "      <td>-99.086624</td>\n",
       "      <td>...</td>\n",
       "      <td>NaN</td>\n",
       "      <td>0.0</td>\n",
       "      <td>0.0</td>\n",
       "      <td>0</td>\n",
       "      <td>1.0</td>\n",
       "      <td>PGIS</td>\n",
       "      <td>0</td>\n",
       "      <td>1</td>\n",
       "      <td>1</td>\n",
       "      <td>1</td>\n",
       "    </tr>\n",
       "    <tr>\n",
       "      <th>2</th>\n",
       "      <td>1970</td>\n",
       "      <td>1</td>\n",
       "      <td>0</td>\n",
       "      <td>0</td>\n",
       "      <td>Philippines</td>\n",
       "      <td>Southeast Asia</td>\n",
       "      <td>Tarlac</td>\n",
       "      <td>Unknown</td>\n",
       "      <td>15.478598</td>\n",
       "      <td>120.599741</td>\n",
       "      <td>...</td>\n",
       "      <td>NaN</td>\n",
       "      <td>1.0</td>\n",
       "      <td>0.0</td>\n",
       "      <td>0</td>\n",
       "      <td>0.0</td>\n",
       "      <td>PGIS</td>\n",
       "      <td>-9</td>\n",
       "      <td>-9</td>\n",
       "      <td>1</td>\n",
       "      <td>1</td>\n",
       "    </tr>\n",
       "    <tr>\n",
       "      <th>3</th>\n",
       "      <td>1970</td>\n",
       "      <td>1</td>\n",
       "      <td>0</td>\n",
       "      <td>0</td>\n",
       "      <td>Greece</td>\n",
       "      <td>Western Europe</td>\n",
       "      <td>Attica</td>\n",
       "      <td>Athens</td>\n",
       "      <td>37.997490</td>\n",
       "      <td>23.762728</td>\n",
       "      <td>...</td>\n",
       "      <td>Unknown Explosive Type</td>\n",
       "      <td>NaN</td>\n",
       "      <td>NaN</td>\n",
       "      <td>1</td>\n",
       "      <td>0.0</td>\n",
       "      <td>PGIS</td>\n",
       "      <td>-9</td>\n",
       "      <td>-9</td>\n",
       "      <td>1</td>\n",
       "      <td>1</td>\n",
       "    </tr>\n",
       "    <tr>\n",
       "      <th>4</th>\n",
       "      <td>1970</td>\n",
       "      <td>1</td>\n",
       "      <td>0</td>\n",
       "      <td>0</td>\n",
       "      <td>Japan</td>\n",
       "      <td>East Asia</td>\n",
       "      <td>Fukouka</td>\n",
       "      <td>Fukouka</td>\n",
       "      <td>33.580412</td>\n",
       "      <td>130.396361</td>\n",
       "      <td>...</td>\n",
       "      <td>NaN</td>\n",
       "      <td>NaN</td>\n",
       "      <td>NaN</td>\n",
       "      <td>1</td>\n",
       "      <td>0.0</td>\n",
       "      <td>PGIS</td>\n",
       "      <td>-9</td>\n",
       "      <td>-9</td>\n",
       "      <td>1</td>\n",
       "      <td>1</td>\n",
       "    </tr>\n",
       "  </tbody>\n",
       "</table>\n",
       "<p>5 rows × 39 columns</p>\n",
       "</div>"
      ],
      "text/plain": [
       "   iyear  imonth  iday  extended         country_txt  \\\n",
       "0   1970       7     2         0  Dominican Republic   \n",
       "1   1970       0     0         0              Mexico   \n",
       "2   1970       1     0         0         Philippines   \n",
       "3   1970       1     0         0              Greece   \n",
       "4   1970       1     0         0               Japan   \n",
       "\n",
       "                    region_txt provstate           city   latitude  \\\n",
       "0  Central America & Caribbean       NaN  Santo Domingo  18.456792   \n",
       "1                North America   Federal    Mexico city  19.371887   \n",
       "2               Southeast Asia    Tarlac        Unknown  15.478598   \n",
       "3               Western Europe    Attica         Athens  37.997490   \n",
       "4                    East Asia   Fukouka        Fukouka  33.580412   \n",
       "\n",
       "    longitude  ...        weapsubtype1_txt  nkill  nwound  property  \\\n",
       "0  -69.951164  ...                     NaN    1.0     0.0         0   \n",
       "1  -99.086624  ...                     NaN    0.0     0.0         0   \n",
       "2  120.599741  ...                     NaN    1.0     0.0         0   \n",
       "3   23.762728  ...  Unknown Explosive Type    NaN     NaN         1   \n",
       "4  130.396361  ...                     NaN    NaN     NaN         1   \n",
       "\n",
       "   ishostkid  dbsource  INT_LOG  INT_IDEO  INT_MISC INT_ANY  \n",
       "0        0.0      PGIS        0         0         0       0  \n",
       "1        1.0      PGIS        0         1         1       1  \n",
       "2        0.0      PGIS       -9        -9         1       1  \n",
       "3        0.0      PGIS       -9        -9         1       1  \n",
       "4        0.0      PGIS       -9        -9         1       1  \n",
       "\n",
       "[5 rows x 39 columns]"
      ]
     },
     "execution_count": 8,
     "metadata": {},
     "output_type": "execute_result"
    }
   ],
   "source": [
    "data.head() # ukáže nám ako náš data set vyzera po čistení "
   ]
  },
  {
   "cell_type": "code",
   "execution_count": 9,
   "metadata": {},
   "outputs": [
    {
     "name": "stdout",
     "output_type": "stream",
     "text": [
      "Length of unique data for   iyear   is    47 \n",
      "Length of unique data for   imonth   is    13 \n",
      "Length of unique data for   iday   is    32 \n",
      "Length of unique data for   extended   is    2 \n",
      "Length of unique data for   country_txt   is    205 \n",
      "Length of unique data for   region_txt   is    12 \n",
      "Length of unique data for   provstate   is    2856 \n",
      "Length of unique data for   city   is    36675 \n",
      "Length of unique data for   latitude   is    48323 \n",
      "Length of unique data for   longitude   is    48040 \n",
      "Length of unique data for   specificity   is    6 \n",
      "Length of unique data for   vicinity   is    3 \n",
      "Length of unique data for   crit1   is    2 \n",
      "Length of unique data for   crit2   is    2 \n",
      "Length of unique data for   crit3   is    2 \n",
      "Length of unique data for   doubtterr   is    4 \n",
      "Length of unique data for   multiple   is    3 \n",
      "Length of unique data for   success   is    2 \n",
      "Length of unique data for   suicide   is    2 \n",
      "Length of unique data for   attacktype1_txt   is    9 \n",
      "Length of unique data for   targtype1_txt   is    22 \n",
      "Length of unique data for   targsubtype1_txt   is    113 \n",
      "Length of unique data for   corp1   is    33239 \n",
      "Length of unique data for   target1   is    86007 \n",
      "Length of unique data for   natlty1_txt   is    216 \n",
      "Length of unique data for   gname   is    3537 \n",
      "Length of unique data for   guncertain1   is    3 \n",
      "Length of unique data for   individual   is    2 \n",
      "Length of unique data for   weaptype1_txt   is    12 \n",
      "Length of unique data for   weapsubtype1_txt   is    31 \n",
      "Length of unique data for   nkill   is    206 \n",
      "Length of unique data for   nwound   is    239 \n",
      "Length of unique data for   property   is    3 \n",
      "Length of unique data for   ishostkid   is    4 \n",
      "Length of unique data for   dbsource   is    26 \n",
      "Length of unique data for   INT_LOG   is    3 \n",
      "Length of unique data for   INT_IDEO   is    3 \n",
      "Length of unique data for   INT_MISC   is    3 \n",
      "Length of unique data for   INT_ANY   is    3 \n"
     ]
    }
   ],
   "source": [
    "unique_all(False) # ukázuje nám hodnoty stplcou ktoré sú false"
   ]
  },
  {
   "cell_type": "code",
   "execution_count": 10,
   "metadata": {},
   "outputs": [
    {
     "name": "stdout",
     "output_type": "stream",
     "text": [
      "Column provstate has been number of nulls 421\n",
      "Column city has been number of nulls 434\n",
      "Column latitude has been number of nulls 4556\n",
      "Column longitude has been number of nulls 4557\n",
      "Column specificity has been number of nulls 6\n",
      "Column doubtterr has been number of nulls 1\n",
      "Column multiple has been number of nulls 1\n",
      "Column targsubtype1_txt has been number of nulls 10373\n",
      "Column corp1 has been number of nulls 42550\n",
      "Column target1 has been number of nulls 636\n",
      "Column natlty1_txt has been number of nulls 1559\n",
      "Column guncertain1 has been number of nulls 380\n",
      "Column weapsubtype1_txt has been number of nulls 20768\n",
      "Column nkill has been number of nulls 10313\n",
      "Column nwound has been number of nulls 16311\n",
      "Column ishostkid has been number of nulls 178\n"
     ]
    }
   ],
   "source": [
    "count_nulls() # spočíta nam koľko núl sme mali v súbore (datasete)"
   ]
  },
  {
   "cell_type": "code",
   "execution_count": 11,
   "metadata": {},
   "outputs": [
    {
     "name": "stdout",
     "output_type": "stream",
     "text": [
      "for feature : iyear\n",
      "Number of Nulls is   0\n",
      "Number of Unique values is   47\n",
      "random Value 1970\n",
      "random Value 1970\n",
      "random Value 1970\n",
      "--------------------------\n",
      "for feature : imonth\n",
      "Number of Nulls is   0\n",
      "Number of Unique values is   13\n",
      "random Value 7\n",
      "random Value 1\n",
      "random Value 1\n",
      "--------------------------\n",
      "for feature : iday\n",
      "Number of Nulls is   0\n",
      "Number of Unique values is   32\n",
      "random Value 2\n",
      "random Value 1\n",
      "random Value 14\n",
      "--------------------------\n",
      "for feature : extended\n",
      "Number of Nulls is   0\n",
      "Number of Unique values is   2\n",
      "random Value 0\n",
      "random Value 0\n",
      "random Value 0\n",
      "--------------------------\n",
      "for feature : country_txt\n",
      "Number of Nulls is   0\n",
      "Number of Unique values is   205\n",
      "random Value Dominican Republic\n",
      "random Value United States\n",
      "random Value United States\n",
      "--------------------------\n",
      "for feature : region_txt\n",
      "Number of Nulls is   0\n",
      "Number of Unique values is   12\n",
      "random Value Central America & Caribbean\n",
      "random Value North America\n",
      "random Value North America\n",
      "--------------------------\n",
      "for feature : provstate\n",
      "Number of Nulls is   421\n",
      "Number of Unique values is   2856\n",
      "random Value nan\n",
      "random Value Wisconsin\n",
      "random Value Illinois\n",
      "--------------------------\n",
      "for feature : city\n",
      "Number of Nulls is   434\n",
      "Number of Unique values is   36675\n",
      "random Value Santo Domingo\n",
      "random Value Baraboo\n",
      "random Value Champaign\n",
      "--------------------------\n",
      "for feature : latitude\n",
      "Number of Nulls is   4556\n",
      "Number of Unique values is   48323\n",
      "random Value 18.456792\n",
      "random Value 43.4685\n",
      "random Value 40.116748\n",
      "--------------------------\n",
      "for feature : longitude\n",
      "Number of Nulls is   4557\n",
      "Number of Unique values is   48040\n",
      "random Value -69.951164\n",
      "random Value -89.744299\n",
      "random Value -88.23926999999999\n",
      "--------------------------\n",
      "for feature : specificity\n",
      "Number of Nulls is   6\n",
      "Number of Unique values is   6\n",
      "random Value 1.0\n",
      "random Value 1.0\n",
      "random Value 1.0\n",
      "--------------------------\n",
      "for feature : vicinity\n",
      "Number of Nulls is   0\n",
      "Number of Unique values is   3\n",
      "random Value 0\n",
      "random Value 0\n",
      "random Value 0\n",
      "--------------------------\n",
      "for feature : crit1\n",
      "Number of Nulls is   0\n",
      "Number of Unique values is   2\n",
      "random Value 1\n",
      "random Value 1\n",
      "random Value 1\n",
      "--------------------------\n",
      "for feature : crit2\n",
      "Number of Nulls is   0\n",
      "Number of Unique values is   2\n",
      "random Value 1\n",
      "random Value 1\n",
      "random Value 1\n",
      "--------------------------\n",
      "for feature : crit3\n",
      "Number of Nulls is   0\n",
      "Number of Unique values is   2\n",
      "random Value 1\n",
      "random Value 0\n",
      "random Value 1\n",
      "--------------------------\n",
      "for feature : doubtterr\n",
      "Number of Nulls is   1\n",
      "Number of Unique values is   4\n",
      "random Value 0.0\n",
      "random Value 1.0\n",
      "random Value 0.0\n",
      "--------------------------\n",
      "for feature : multiple\n",
      "Number of Nulls is   1\n",
      "Number of Unique values is   3\n",
      "random Value 0.0\n",
      "random Value 0.0\n",
      "random Value 0.0\n",
      "--------------------------\n",
      "for feature : success\n",
      "Number of Nulls is   0\n",
      "Number of Unique values is   2\n",
      "random Value 1\n",
      "random Value 0\n",
      "random Value 1\n",
      "--------------------------\n",
      "for feature : suicide\n",
      "Number of Nulls is   0\n",
      "Number of Unique values is   2\n",
      "random Value 0\n",
      "random Value 0\n",
      "random Value 0\n",
      "--------------------------\n",
      "for feature : attacktype1_txt\n",
      "Number of Nulls is   0\n",
      "Number of Unique values is   9\n",
      "random Value Assassination\n",
      "random Value Bombing/Explosion\n",
      "random Value Facility/Infrastructure Attack\n",
      "--------------------------\n",
      "for feature : targtype1_txt\n",
      "Number of Nulls is   0\n",
      "Number of Unique values is   22\n",
      "random Value Private Citizens & Property\n",
      "random Value Military\n",
      "random Value Police\n",
      "--------------------------\n",
      "for feature : targsubtype1_txt\n",
      "Number of Nulls is   10373\n",
      "Number of Unique values is   113\n",
      "random Value Named Civilian\n",
      "random Value Military Barracks/Base/Headquarters/Checkpost\n",
      "random Value Police Building (headquarters, station, school)\n",
      "--------------------------\n",
      "for feature : corp1\n",
      "Number of Nulls is   42550\n",
      "Number of Unique values is   33239\n",
      "random Value nan\n",
      "random Value nan\n",
      "random Value Police Department\n",
      "--------------------------\n",
      "for feature : target1\n",
      "Number of Nulls is   636\n",
      "Number of Unique values is   86007\n",
      "random Value Julio Guzman\n",
      "random Value Badger Army ammo depot.\n",
      "random Value Champaign Police Department\n",
      "--------------------------\n",
      "for feature : natlty1_txt\n",
      "Number of Nulls is   1559\n",
      "Number of Unique values is   216\n",
      "random Value Dominican Republic\n",
      "random Value United States\n",
      "random Value United States\n",
      "--------------------------\n",
      "for feature : gname\n",
      "Number of Nulls is   0\n",
      "Number of Unique values is   3537\n",
      "random Value MANO-D\n",
      "random Value Weather Underground, Weathermen\n",
      "random Value Black Nationalists\n",
      "--------------------------\n",
      "for feature : guncertain1\n",
      "Number of Nulls is   380\n",
      "Number of Unique values is   3\n",
      "random Value 0.0\n",
      "random Value 0.0\n",
      "random Value 0.0\n",
      "--------------------------\n",
      "for feature : individual\n",
      "Number of Nulls is   0\n",
      "Number of Unique values is   2\n",
      "random Value 0\n",
      "random Value 0\n",
      "random Value 0\n",
      "--------------------------\n",
      "for feature : weaptype1_txt\n",
      "Number of Nulls is   0\n",
      "Number of Unique values is   12\n",
      "random Value Unknown\n",
      "random Value Explosives\n",
      "random Value Incendiary\n",
      "--------------------------\n",
      "for feature : weapsubtype1_txt\n",
      "Number of Nulls is   20768\n",
      "Number of Unique values is   31\n",
      "random Value nan\n",
      "random Value Unknown Explosive Type\n",
      "random Value Molotov Cocktail/Petrol Bomb\n",
      "--------------------------\n",
      "for feature : nkill\n",
      "Number of Nulls is   10313\n",
      "Number of Unique values is   206\n",
      "random Value 1.0\n",
      "random Value 0.0\n",
      "random Value 0.0\n",
      "--------------------------\n",
      "for feature : nwound\n",
      "Number of Nulls is   16311\n",
      "Number of Unique values is   239\n",
      "random Value 0.0\n",
      "random Value 0.0\n",
      "random Value 1.0\n",
      "--------------------------\n",
      "for feature : property\n",
      "Number of Nulls is   0\n",
      "Number of Unique values is   3\n",
      "random Value 0\n",
      "random Value 0\n",
      "random Value 1\n",
      "--------------------------\n",
      "for feature : ishostkid\n",
      "Number of Nulls is   178\n",
      "Number of Unique values is   4\n",
      "random Value 0.0\n",
      "random Value 0.0\n",
      "random Value 0.0\n",
      "--------------------------\n",
      "for feature : dbsource\n",
      "Number of Nulls is   0\n",
      "Number of Unique values is   26\n",
      "random Value PGIS\n",
      "random Value PGIS\n",
      "random Value Hewitt Project\n",
      "--------------------------\n",
      "for feature : INT_LOG\n",
      "Number of Nulls is   0\n",
      "Number of Unique values is   3\n",
      "random Value 0\n",
      "random Value 0\n",
      "random Value -9\n",
      "--------------------------\n",
      "for feature : INT_IDEO\n",
      "Number of Nulls is   0\n",
      "Number of Unique values is   3\n",
      "random Value 0\n",
      "random Value 0\n",
      "random Value -9\n",
      "--------------------------\n",
      "for feature : INT_MISC\n",
      "Number of Nulls is   0\n",
      "Number of Unique values is   3\n",
      "random Value 0\n",
      "random Value 0\n",
      "random Value 0\n",
      "--------------------------\n",
      "for feature : INT_ANY\n",
      "Number of Nulls is   0\n",
      "Number of Unique values is   3\n",
      "random Value 0\n",
      "random Value 0\n",
      "random Value -9\n",
      "--------------------------\n"
     ]
    }
   ],
   "source": [
    "show_details() # ukazuje nám detaily každého stplca "
   ]
  },
  {
   "cell_type": "code",
   "execution_count": 12,
   "metadata": {},
   "outputs": [
    {
     "name": "stdout",
     "output_type": "stream",
     "text": [
      "Number of unique vaure are 47 which are : \n",
      " [1970, 1971, 1972, 1973, 1974, 1975, 1976, 1977, 1978, 1979, 1980, 1981, 1986, 1982, 1983, 1984, 1985, 1987, 1988, 1989, 1990, 1991, 1992, 1994, 1995, 1996, 1997, 1998, 1999, 2000, 2001, 2002, 2003, 2004, 2005, 2006, 2007, 2008, 2009, 2010, 2011, 2012, 2013, 2014, 2015, 2016, 2017]\n"
     ]
    }
   ],
   "source": [
    "unique('iyear') # vypíše nám presne roky od 1970 až po 2017"
   ]
  },
  {
   "cell_type": "code",
   "execution_count": 13,
   "metadata": {},
   "outputs": [
    {
     "data": {
      "image/png": "[encoded data removed]",
      "text/plain": [
       "<Figure size 432x288 with 1 Axes>"
      ]
     },
     "metadata": {},
     "output_type": "display_data"
    }
   ],
   "source": [
    "cplot('iyear') # počti teroristkých utokov ako rástli ročne ( podľa tohto žijeme bezpečnej krajine )"
   ]
  },
  {
   "cell_type": "code",
   "execution_count": 14,
   "metadata": {},
   "outputs": [
    {
     "name": "stdout",
     "output_type": "stream",
     "text": [
      "Number of unique vaure are 13 which are : \n",
      " [7, 0, 1, 2, 3, 4, 5, 6, 8, 9, 10, 11, 12]\n"
     ]
    }
   ],
   "source": [
    "unique('imonth') # počet mesiacov počíta nám od 0 preto tam máme trinasť "
   ]
  },
  {
   "cell_type": "code",
   "execution_count": 15,
   "metadata": {},
   "outputs": [
    {
     "data": {
      "text/plain": [
       "181691"
      ]
     },
     "execution_count": 15,
     "metadata": {},
     "output_type": "execute_result"
    }
   ],
   "source": [
    "data.shape[0] # hodnoty bez stplca "
   ]
  },
  {
   "cell_type": "code",
   "execution_count": 16,
   "metadata": {},
   "outputs": [],
   "source": [
    "remove_zero('imonth') # vymazanie hodnoty 0 pri mesiacoch aby sme ich mali 12 "
   ]
  },
  {
   "cell_type": "code",
   "execution_count": 17,
   "metadata": {},
   "outputs": [
    {
     "name": "stdout",
     "output_type": "stream",
     "text": [
      "Number of unique vaure are 12 which are : \n",
      " [7, 1, 2, 3, 4, 5, 6, 8, 9, 10, 11, 12]\n"
     ]
    }
   ],
   "source": [
    "unique('imonth') # máme ich 12"
   ]
  },
  {
   "cell_type": "code",
   "execution_count": 18,
   "metadata": {},
   "outputs": [
    {
     "data": {
      "image/png": "[encoded data removed]",
      "text/plain": [
       "<Figure size 432x288 with 1 Axes>"
      ]
     },
     "metadata": {},
     "output_type": "display_data"
    }
   ],
   "source": [
    "cplot('imonth') # vývoj útokoch v daných mesiacoch"
   ]
  },
  {
   "cell_type": "code",
   "execution_count": 19,
   "metadata": {},
   "outputs": [
    {
     "name": "stdout",
     "output_type": "stream",
     "text": [
      "Number of unique vaure are 32 which are : \n",
      " [2, 0, 1, 3, 6, 8, 9, 10, 11, 12, 13, 14, 15, 19, 20, 21, 22, 25, 26, 27, 28, 30, 31, 4, 7, 16, 17, 18, 23, 24, 5, 29]\n"
     ]
    }
   ],
   "source": [
    "unique('iday') #počet dní aj z nulov"
   ]
  },
  {
   "cell_type": "code",
   "execution_count": 20,
   "metadata": {},
   "outputs": [],
   "source": [
    "remove_zero('iday') # vymazanie 0 hodnoty dna "
   ]
  },
  {
   "cell_type": "code",
   "execution_count": 21,
   "metadata": {},
   "outputs": [
    {
     "name": "stdout",
     "output_type": "stream",
     "text": [
      "Number of unique vaure are 31 which are : \n",
      " [2, 1, 3, 6, 8, 9, 10, 11, 12, 13, 14, 15, 19, 20, 21, 22, 25, 26, 27, 28, 30, 31, 4, 7, 16, 17, 18, 23, 24, 5, 29]\n"
     ]
    }
   ],
   "source": [
    "unique('iday')# upravené dni "
   ]
  },
  {
   "cell_type": "code",
   "execution_count": 22,
   "metadata": {},
   "outputs": [
    {
     "data": {
      "text/plain": [
       "180800"
      ]
     },
     "execution_count": 22,
     "metadata": {},
     "output_type": "execute_result"
    }
   ],
   "source": [
    "data.shape[0]# upravený bez 0 dní mesiaca aj roka hodnota "
   ]
  },
  {
   "cell_type": "code",
   "execution_count": 23,
   "metadata": {},
   "outputs": [
    {
     "name": "stdout",
     "output_type": "stream",
     "text": [
      "Number of unique vaure are 2 which are : \n",
      " [0, 1]\n"
     ]
    }
   ],
   "source": [
    "unique('extended')# prejdeme na hodnoty rozšírene (stlpec)"
   ]
  },
  {
   "cell_type": "code",
   "execution_count": 24,
   "metadata": {},
   "outputs": [
    {
     "data": {
      "text/plain": [
       "4469"
      ]
     },
     "execution_count": 24,
     "metadata": {},
     "output_type": "execute_result"
    }
   ],
   "source": [
    "data['latitude'].isna().sum() #počítame koľko núl ma zemepisná šírka "
   ]
  },
  {
   "cell_type": "code",
   "execution_count": 25,
   "metadata": {},
   "outputs": [],
   "source": [
    "fillna('latitude',0) # vyplnime prazdne hodnoty nulami a potom ich odstraníme \n",
    "remove_zero('latitude')"
   ]
  },
  {
   "cell_type": "code",
   "execution_count": 26,
   "metadata": {},
   "outputs": [
    {
     "data": {
      "text/plain": [
       "0"
      ]
     },
     "execution_count": 26,
     "metadata": {},
     "output_type": "execute_result"
    }
   ],
   "source": [
    "data['latitude'].isna().sum() # koľko máme nul v zemepisnej šírke "
   ]
  },
  {
   "cell_type": "code",
   "execution_count": 27,
   "metadata": {},
   "outputs": [
    {
     "data": {
      "text/plain": [
       "176331"
      ]
     },
     "execution_count": 27,
     "metadata": {},
     "output_type": "execute_result"
    }
   ],
   "source": [
    "data.shape[0] # vidíme že náš dataset sa upravuje aby nemal nulové hodnoty "
   ]
  },
  {
   "cell_type": "code",
   "execution_count": 28,
   "metadata": {},
   "outputs": [
    {
     "data": {
      "text/plain": [
       "0"
      ]
     },
     "execution_count": 28,
     "metadata": {},
     "output_type": "execute_result"
    }
   ],
   "source": [
    "fillna('longitude',0)\n",
    "remove_zero('longitude')\n",
    "data['longitude'].isna().sum() # vymazanie samotného nulovej hodnoty pre zemepisnú šírku "
   ]
  },
  {
   "cell_type": "code",
   "execution_count": 29,
   "metadata": {},
   "outputs": [
    {
     "data": {
      "text/plain": [
       "176330"
      ]
     },
     "execution_count": 29,
     "metadata": {},
     "output_type": "execute_result"
    }
   ],
   "source": [
    "data.shape[0] # vidíme o jednu hodnotu menej "
   ]
  },
  {
   "cell_type": "code",
   "execution_count": 30,
   "metadata": {},
   "outputs": [
    {
     "data": {
      "text/plain": [
       "0"
      ]
     },
     "execution_count": 30,
     "metadata": {},
     "output_type": "execute_result"
    }
   ],
   "source": [
    "data['specificity'].isna().sum() # kontrola nul pre stlpec specificity "
   ]
  },
  {
   "cell_type": "code",
   "execution_count": 31,
   "metadata": {},
   "outputs": [
    {
     "data": {
      "text/plain": [
       "0"
      ]
     },
     "execution_count": 31,
     "metadata": {},
     "output_type": "execute_result"
    }
   ],
   "source": [
    "data['vicinity'].isna().sum() # kontrola nul pre stlpec vicinity "
   ]
  },
  {
   "cell_type": "code",
   "execution_count": 32,
   "metadata": {},
   "outputs": [
    {
     "data": {
      "text/plain": [
       "1"
      ]
     },
     "execution_count": 32,
     "metadata": {},
     "output_type": "execute_result"
    }
   ],
   "source": [
    "data['doubtterr'].isna().sum() # kontrola nul pre stlpec doubtterr"
   ]
  },
  {
   "cell_type": "code",
   "execution_count": 33,
   "metadata": {},
   "outputs": [
    {
     "name": "stdout",
     "output_type": "stream",
     "text": [
      "Number of unique vaure are 4 which are : \n",
      " [0.0, 1.0, -9.0, nan]\n"
     ]
    }
   ],
   "source": [
    "unique('doubtterr') # hodnoty stlpca "
   ]
  },
  {
   "cell_type": "code",
   "execution_count": 34,
   "metadata": {},
   "outputs": [
    {
     "data": {
      "text/plain": [
       "0"
      ]
     },
     "execution_count": 34,
     "metadata": {},
     "output_type": "execute_result"
    }
   ],
   "source": [
    "fillna('doubtterr',33)  # nastavenie hodnoty na 33 a vymazať ich  plus kontrola koľko nul máme v danom stlpci\n",
    "remove_zero('doubtterr',33)\n",
    "data['doubtterr'].isna().sum()"
   ]
  },
  {
   "cell_type": "code",
   "execution_count": 35,
   "metadata": {},
   "outputs": [
    {
     "data": {
      "text/plain": [
       "1"
      ]
     },
     "execution_count": 35,
     "metadata": {},
     "output_type": "execute_result"
    }
   ],
   "source": [
    "data['multiple'].isna().sum() #koľko null máme pre danú hodnotu "
   ]
  },
  {
   "cell_type": "code",
   "execution_count": 36,
   "metadata": {},
   "outputs": [
    {
     "name": "stdout",
     "output_type": "stream",
     "text": [
      "Number of unique vaure are 3 which are : \n",
      " [0.0, 1.0, nan]\n"
     ]
    }
   ],
   "source": [
    "unique('multiple') # vypis hodnout "
   ]
  },
  {
   "cell_type": "code",
   "execution_count": 37,
   "metadata": {},
   "outputs": [
    {
     "data": {
      "text/plain": [
       "0"
      ]
     },
     "execution_count": 37,
     "metadata": {},
     "output_type": "execute_result"
    }
   ],
   "source": [
    "fillna('multiple',33) # to iste ako hore len v stplci multiple\n",
    "remove_zero('multiple',33)\n",
    "data['multiple'].isna().sum()"
   ]
  },
  {
   "cell_type": "code",
   "execution_count": 38,
   "metadata": {},
   "outputs": [
    {
     "data": {
      "text/plain": [
       "371"
      ]
     },
     "execution_count": 38,
     "metadata": {},
     "output_type": "execute_result"
    }
   ],
   "source": [
    "data['guncertain1'].isna().sum() # koľko hodnot máme v danom stlpci z nulovou hodnotov"
   ]
  },
  {
   "cell_type": "code",
   "execution_count": 39,
   "metadata": {},
   "outputs": [
    {
     "name": "stdout",
     "output_type": "stream",
     "text": [
      "Number of unique vaure are 3 which are : \n",
      " [0.0, 1.0, nan]\n"
     ]
    }
   ],
   "source": [
    "unique('guncertain1') # aké hodnoty má stlpec "
   ]
  },
  {
   "cell_type": "code",
   "execution_count": 40,
   "metadata": {},
   "outputs": [
    {
     "data": {
      "text/plain": [
       "0"
      ]
     },
     "execution_count": 40,
     "metadata": {},
     "output_type": "execute_result"
    }
   ],
   "source": [
    "fillna('guncertain1',33) # to isté ako stlci hore nastavenie hodnoty a automaticky vymazanie hodnoty \n",
    "remove_zero('guncertain1',33)\n",
    "data['guncertain1'].isna().sum()"
   ]
  },
  {
   "cell_type": "code",
   "execution_count": 41,
   "metadata": {},
   "outputs": [
    {
     "data": {
      "image/png": "[encoded data removed]",
      "text/plain": [
       "<Figure size 432x288 with 1 Axes>"
      ]
     },
     "metadata": {},
     "output_type": "display_data"
    }
   ],
   "source": [
    "pie('guncertain1') # kruhovy grav z hodnotami 0 a 1 "
   ]
  },
  {
   "cell_type": "code",
   "execution_count": 42,
   "metadata": {},
   "outputs": [
    {
     "name": "stdout",
     "output_type": "stream",
     "text": [
      "Number of unique vaure are 202 which are : \n",
      " [1.0, 0.0, nan, 7.0, 47.0, 2.0, 5.0, 3.0, 4.0, 25.0, 15.0, 8.0, 26.0, 81.0, 6.0, 9.0, 16.0, 30.0, 31.0, 12.0, 21.0, 14.0, 88.0, 11.0, 10.0, 27.0, 18.0, 22.0, 19.0, 92.0, 13.0, 73.0, 100.0, 42.0, 17.0, 98.0, 422.0, 48.0, 34.0, 54.0, 50.0, 20.0, 41.0, 37.0, 28.0, 40.0, 32.0, 85.0, 23.0, 300.0, 35.0, 60.0, 24.0, 58.0, 87.0, 45.0, 38.0, 29.0, 36.0, 74.0, 83.0, 90.0, 70.0, 66.0, 80.0, 67.0, 51.0, 39.0, 114.0, 124.0, 76.0, 33.0, 75.0, 57.0, 62.0, 46.0, 56.0, 63.0, 120.0, 102.0, 79.0, 52.0, 77.0, 49.0, 111.0, 165.0, 241.0, 108.0, 132.0, 65.0, 43.0, 228.0, 110.0, 180.0, 250.0, 93.0, 200.0, 130.0, 59.0, 94.0, 146.0, 329.0, 44.0, 97.0, 240.0, 227.0, 126.0, 106.0, 388.0, 68.0, 270.0, 84.0, 53.0, 82.0, 171.0, 107.0, 55.0, 112.0, 72.0, 96.0, 140.0, 61.0, 105.0, 115.0, 1180.0, 170.0, 168.0, 121.0, 375.0, 64.0, 91.0, 123.0, 135.0, 256.0, 109.0, 271.0, 206.0, 104.0, 320.0, 224.0, 118.0, 150.0, 129.0, 95.0, 1384.0, 1383.0, 190.0, 119.0, 78.0, 101.0, 71.0, 116.0, 518.0, 344.0, 160.0, 188.0, 103.0, 205.0, 145.0, 153.0, 127.0, 69.0, 141.0, 134.0, 89.0, 400.0, 86.0, 184.0, 210.0, 142.0, 212.0, 287.0, 315.0, 151.0, 670.0, 1570.0, 310.0, 298.0, 953.0, 517.0, 201.0, 122.0, 158.0, 117.0, 144.0, 208.0, 152.0, 230.0, 280.0, 174.0, 143.0, 383.0, 283.0, 154.0, 284.0, 433.0, 266.0, 133.0, 163.0, 128.0, 588.0, 311.0]\n"
     ]
    }
   ],
   "source": [
    "unique('nkill') # hodnoty stlpca nkill = zabitých ľudí "
   ]
  },
  {
   "cell_type": "code",
   "execution_count": 43,
   "metadata": {},
   "outputs": [
    {
     "data": {
      "text/plain": [
       "0"
      ]
     },
     "execution_count": 43,
     "metadata": {},
     "output_type": "execute_result"
    }
   ],
   "source": [
    "fillna('nkill',999999) # nastavenie a odstranie hodnoty n kill 999999 \n",
    "remove_zero('nkill',999999)\n",
    "data['nkill'].isna().sum()"
   ]
  },
  {
   "cell_type": "code",
   "execution_count": 44,
   "metadata": {},
   "outputs": [
    {
     "data": {
      "text/plain": [
       "0.0           85666\n",
       "1.0           35735\n",
       "2.0           13780\n",
       "3.0            7477\n",
       "4.0            4784\n",
       "5.0            3401\n",
       "6.0            2439\n",
       "7.0            1876\n",
       "8.0            1432\n",
       "10.0           1134\n",
       "rest items     8605\n",
       "dtype: int64"
      ]
     },
     "execution_count": 44,
     "metadata": {},
     "output_type": "execute_result"
    }
   ],
   "source": [
    "victims = max_counts('nkill',10, True) # počet umrti v danej triede koľko ludí umrelo na danú uroven n kill\n",
    "victims"
   ]
  },
  {
   "cell_type": "code",
   "execution_count": 45,
   "metadata": {},
   "outputs": [
    {
     "data": {
      "image/png": "[encoded data removed]",
      "text/plain": [
       "<Figure size 432x288 with 1 Axes>"
      ]
     },
     "metadata": {},
     "output_type": "display_data"
    }
   ],
   "source": [
    "spie(victims) # na grafe vidíme koľko percent ktorá uroven zabila ludí "
   ]
  },
  {
   "cell_type": "code",
   "execution_count": 46,
   "metadata": {},
   "outputs": [
    {
     "data": {
      "text/plain": [
       "6410"
      ]
     },
     "execution_count": 46,
     "metadata": {},
     "output_type": "execute_result"
    }
   ],
   "source": [
    "data['nwound'].isna().sum() # hodnota stlpcu  nwound"
   ]
  },
  {
   "cell_type": "code",
   "execution_count": 47,
   "metadata": {},
   "outputs": [
    {
     "name": "stdout",
     "output_type": "stream",
     "text": [
      "Number of unique vaure are 239 which are : \n",
      " [0.0, 1.0, 2.0, nan, 7.0, 9.0, 17.0, 5.0, 3.0, 10.0, 12.0, 20.0, 4.0, 11.0, 27.0, 13.0, 19.0, 130.0, 56.0, 24.0, 6.0, 72.0, 238.0, 55.0, 15.0, 8.0, 18.0, 50.0, 34.0, 14.0, 70.0, 102.0, 41.0, 48.0, 36.0, 25.0, 81.0, 54.0, 53.0, 100.0, 45.0, 40.0, 62.0, 74.0, 22.0, 31.0, 16.0, 30.0, 285.0, 23.0, 42.0, 43.0, 76.0, 44.0, 52.0, 46.0, 49.0, 160.0, 37.0, 21.0, 60.0, 26.0, 33.0, 28.0, 39.0, 38.0, 35.0, 32.0, 78.0, 80.0, 47.0, 188.0, 215.0, 85.0, 75.0, 161.0, 90.0, 300.0, 95.0, 135.0, 61.0, 138.0, 71.0, 700.0, 66.0, 136.0, 120.0, 217.0, 319.0, 133.0, 68.0, 73.0, 29.0, 751.0, 200.0, 112.0, 250.0, 82.0, 132.0, 230.0, 107.0, 114.0, 84.0, 140.0, 150.0, 51.0, 58.0, 64.0, 295.0, 106.0, 125.0, 69.0, 59.0, 57.0, 122.0, 109.0, 88.0, 115.0, 176.0, 220.0, 97.0, 65.0, 800.0, 173.0, 92.0, 500.0, 236.0, 98.0, 286.0, 141.0, 5500.0, 650.0, 671.0, 86.0, 104.0, 83.0, 101.0, 1272.0, 105.0, 386.0, 391.0, 110.0, 149.0, 89.0, 91.0, 119.0, 77.0, 118.0, 67.0, 170.0, 194.0, 192.0, 227.0, 260.0, 4000.0, 180.0, 184.0, 99.0, 94.0, 137.0, 8190.0, 8191.0, 171.0, 121.0, 103.0, 162.0, 197.0, 151.0, 224.0, 134.0, 233.0, 167.0, 450.0, 216.0, 145.0, 63.0, 727.0, 182.0, 159.0, 108.0, 128.0, 340.0, 163.0, 542.0, 87.0, 155.0, 96.0, 817.0, 257.0, 148.0, 123.0, 246.0, 127.0, 347.0, 178.0, 168.0, 207.0, 183.0, 117.0, 750.0, 147.0, 1001.0, 93.0, 154.0, 235.0, 158.0, 211.0, 116.0, 276.0, 552.0, 360.0, 113.0, 157.0, 175.0, 301.0, 131.0, 400.0, 370.0, 8.5, 169.0, 201.0, 111.0, 143.0, 153.0, 124.0, 79.0, 270.0, 152.0, 296.0, 245.0, 1500.0, 351.0, 600.0, 433.0, 177.0, 491.0, 405.0, 851.0, 316.0]\n"
     ]
    }
   ],
   "source": [
    "unique('nwound') # vypis hodnout "
   ]
  },
  {
   "cell_type": "code",
   "execution_count": 48,
   "metadata": {},
   "outputs": [
    {
     "data": {
      "text/plain": [
       "0"
      ]
     },
     "execution_count": 48,
     "metadata": {},
     "output_type": "execute_result"
    }
   ],
   "source": [
    "fillna('nwound',999999) # odstranenie hodnout 99999... a vypísanie koľko hodnot majú \n",
    "remove_zero('nwound',999999)\n",
    "data['nwound'].isna().sum()"
   ]
  },
  {
   "cell_type": "code",
   "execution_count": 49,
   "metadata": {},
   "outputs": [
    {
     "data": {
      "text/plain": [
       "0.0           99438\n",
       "1.0           15515\n",
       "2.0            9960\n",
       "3.0            7131\n",
       "4.0            4755\n",
       "5.0            3719\n",
       "6.0            2805\n",
       "7.0            2388\n",
       "8.0            1780\n",
       "10.0           1338\n",
       "rest items    11090\n",
       "dtype: int64"
      ]
     },
     "execution_count": 49,
     "metadata": {},
     "output_type": "execute_result"
    }
   ],
   "source": [
    "wounded = max_counts('nwound',10, True) # vypíše štatistiku počtu zranený obetí\n",
    "wounded"
   ]
  },
  {
   "cell_type": "code",
   "execution_count": 50,
   "metadata": {},
   "outputs": [
    {
     "data": {
      "image/png": "[encoded data removed]",
      "text/plain": [
       "<Figure size 432x288 with 1 Axes>"
      ]
     },
     "metadata": {},
     "output_type": "display_data"
    }
   ],
   "source": [
    "spie(wounded)  #  vidíme na grafe počet zranený ktorá tieda ich mala najviac a ktorá najmenej"
   ]
  },
  {
   "cell_type": "code",
   "execution_count": 51,
   "metadata": {},
   "outputs": [
    {
     "data": {
      "text/plain": [
       "153"
      ]
     },
     "execution_count": 51,
     "metadata": {},
     "output_type": "execute_result"
    }
   ],
   "source": [
    "data['ishostkid'].isna().sum()  #  počítame hodnoty null"
   ]
  },
  {
   "cell_type": "code",
   "execution_count": 52,
   "metadata": {},
   "outputs": [
    {
     "name": "stdout",
     "output_type": "stream",
     "text": [
      "Number of unique vaure are 4 which are : \n",
      " [0.0, 1.0, nan, -9.0]\n"
     ]
    }
   ],
   "source": [
    "unique('ishostkid')  #  hodnoty stlpca "
   ]
  },
  {
   "cell_type": "code",
   "execution_count": 53,
   "metadata": {},
   "outputs": [
    {
     "data": {
      "text/plain": [
       "0"
      ]
     },
     "execution_count": 53,
     "metadata": {},
     "output_type": "execute_result"
    }
   ],
   "source": [
    "fillna('ishostkid',33)\n",
    "remove_zero('ishostkid',33)\n",
    "data['ishostkid'].isna().sum()  #  odstanenie hodnot "
   ]
  },
  {
   "cell_type": "code",
   "execution_count": 54,
   "metadata": {},
   "outputs": [
    {
     "data": {
      "text/plain": [
       "(159766, 39)"
      ]
     },
     "execution_count": 54,
     "metadata": {},
     "output_type": "execute_result"
    }
   ],
   "source": [
    "data.shape  #  vypís nášho datasetu počet stlpcou a riadkov "
   ]
  },
  {
   "cell_type": "code",
   "execution_count": 55,
   "metadata": {},
   "outputs": [
    {
     "name": "stdout",
     "output_type": "stream",
     "text": [
      "Column provstate has been number of nulls 377\n",
      "Column city has been number of nulls 422\n",
      "Column targsubtype1_txt has been number of nulls 9478\n",
      "Column corp1 has been number of nulls 34712\n",
      "Column target1 has been number of nulls 525\n",
      "Column natlty1_txt has been number of nulls 1445\n",
      "Column weapsubtype1_txt has been number of nulls 16078\n"
     ]
    }
   ],
   "source": [
    "count_nulls()  #  počet null v stlpcoch "
   ]
  },
  {
   "cell_type": "code",
   "execution_count": 56,
   "metadata": {},
   "outputs": [],
   "source": [
    "fillna('provstate','other')   # vidíme že tieto stlpce majú nulové hodnoty tak im nastavýme inú hodnotu \n",
    "fillna('city','other')\n",
    "fillna('targsubtype1_txt','other')\n",
    "fillna('corp1','other')\n",
    "fillna('target1','other')\n",
    "fillna('natlty1_txt','other')\n",
    "fillna('weapsubtype1_txt','other')"
   ]
  },
  {
   "cell_type": "code",
   "execution_count": 57,
   "metadata": {},
   "outputs": [],
   "source": [
    "count_nulls()  #počet núl"
   ]
  },
  {
   "cell_type": "code",
   "execution_count": 58,
   "metadata": {},
   "outputs": [],
   "source": [
    "encoder('provstate','provstate_code',True)  # nastavenie inej hodnoty  v daných stlpcoch \n",
    "encoder('city','city_code',True)\n",
    "encoder('targsubtype1_txt','targsubtype_code',True)\n",
    "encoder('corp1','corp_code',True)\n",
    "encoder('target1','target_code',True)\n",
    "encoder('natlty1_txt','natlty_code',True)\n",
    "encoder('weapsubtype1_txt','weapsubtype_code',True)\n",
    "\n",
    "encoder('country_txt','country_code',True)    \n",
    "encoder('region_txt','region_code',True)    \n",
    "encoder('attacktype1_txt','attacktype_code',True)    \n",
    "encoder('targtype1_txt','targtype_code',True)    \n",
    "encoder('gname','gname_code',True)    \n",
    "encoder('weaptype1_txt','weaptype_code',True)    \n",
    "encoder('dbsource','dbsource_code',True) "
   ]
  },
  {
   "cell_type": "code",
   "execution_count": 59,
   "metadata": {},
   "outputs": [
    {
     "name": "stdout",
     "output_type": "stream",
     "text": [
      "for feature : iyear\n",
      "Number of Nulls is   0\n",
      "Number of Unique values is   47\n",
      "random Value 1970\n",
      "random Value 1970\n",
      "random Value 1970\n",
      "--------------------------\n",
      "for feature : imonth\n",
      "Number of Nulls is   0\n",
      "Number of Unique values is   12\n",
      "random Value 7\n",
      "random Value 1\n",
      "random Value 1\n",
      "--------------------------\n",
      "for feature : iday\n",
      "Number of Nulls is   0\n",
      "Number of Unique values is   31\n",
      "random Value 2\n",
      "random Value 1\n",
      "random Value 14\n",
      "--------------------------\n",
      "for feature : extended\n",
      "Number of Nulls is   0\n",
      "Number of Unique values is   2\n",
      "random Value 0\n",
      "random Value 0\n",
      "random Value 0\n",
      "--------------------------\n",
      "for feature : latitude\n",
      "Number of Nulls is   0\n",
      "Number of Unique values is   44468\n",
      "random Value 18.456792\n",
      "random Value 43.4685\n",
      "random Value 40.116748\n",
      "--------------------------\n",
      "for feature : longitude\n",
      "Number of Nulls is   0\n",
      "Number of Unique values is   44191\n",
      "random Value -69.951164\n",
      "random Value -89.744299\n",
      "random Value -88.23926999999999\n",
      "--------------------------\n",
      "for feature : specificity\n",
      "Number of Nulls is   0\n",
      "Number of Unique values is   4\n",
      "random Value 1.0\n",
      "random Value 1.0\n",
      "random Value 1.0\n",
      "--------------------------\n",
      "for feature : vicinity\n",
      "Number of Nulls is   0\n",
      "Number of Unique values is   3\n",
      "random Value 0\n",
      "random Value 0\n",
      "random Value 0\n",
      "--------------------------\n",
      "for feature : crit1\n",
      "Number of Nulls is   0\n",
      "Number of Unique values is   2\n",
      "random Value 1\n",
      "random Value 1\n",
      "random Value 1\n",
      "--------------------------\n",
      "for feature : crit2\n",
      "Number of Nulls is   0\n",
      "Number of Unique values is   2\n",
      "random Value 1\n",
      "random Value 1\n",
      "random Value 1\n",
      "--------------------------\n",
      "for feature : crit3\n",
      "Number of Nulls is   0\n",
      "Number of Unique values is   2\n",
      "random Value 1\n",
      "random Value 0\n",
      "random Value 1\n",
      "--------------------------\n",
      "for feature : doubtterr\n",
      "Number of Nulls is   0\n",
      "Number of Unique values is   3\n",
      "random Value 0.0\n",
      "random Value 1.0\n",
      "random Value 0.0\n",
      "--------------------------\n",
      "for feature : multiple\n",
      "Number of Nulls is   0\n",
      "Number of Unique values is   2\n",
      "random Value 0.0\n",
      "random Value 0.0\n",
      "random Value 0.0\n",
      "--------------------------\n",
      "for feature : success\n",
      "Number of Nulls is   0\n",
      "Number of Unique values is   2\n",
      "random Value 1\n",
      "random Value 0\n",
      "random Value 1\n",
      "--------------------------\n",
      "for feature : suicide\n",
      "Number of Nulls is   0\n",
      "Number of Unique values is   2\n",
      "random Value 0\n",
      "random Value 0\n",
      "random Value 0\n",
      "--------------------------\n",
      "for feature : guncertain1\n",
      "Number of Nulls is   0\n",
      "Number of Unique values is   2\n",
      "random Value 0.0\n",
      "random Value 0.0\n",
      "random Value 0.0\n",
      "--------------------------\n",
      "for feature : individual\n",
      "Number of Nulls is   0\n",
      "Number of Unique values is   2\n",
      "random Value 0\n",
      "random Value 0\n",
      "random Value 0\n",
      "--------------------------\n",
      "for feature : nkill\n",
      "Number of Nulls is   0\n",
      "Number of Unique values is   179\n",
      "random Value 1.0\n",
      "random Value 0.0\n",
      "random Value 0.0\n",
      "--------------------------\n",
      "for feature : nwound\n",
      "Number of Nulls is   0\n",
      "Number of Unique values is   238\n",
      "random Value 0.0\n",
      "random Value 0.0\n",
      "random Value 1.0\n",
      "--------------------------\n",
      "for feature : property\n",
      "Number of Nulls is   0\n",
      "Number of Unique values is   3\n",
      "random Value 0\n",
      "random Value 0\n",
      "random Value 1\n",
      "--------------------------\n",
      "for feature : ishostkid\n",
      "Number of Nulls is   0\n",
      "Number of Unique values is   3\n",
      "random Value 0.0\n",
      "random Value 0.0\n",
      "random Value 0.0\n",
      "--------------------------\n",
      "for feature : INT_LOG\n",
      "Number of Nulls is   0\n",
      "Number of Unique values is   3\n",
      "random Value 0\n",
      "random Value 0\n",
      "random Value -9\n",
      "--------------------------\n",
      "for feature : INT_IDEO\n",
      "Number of Nulls is   0\n",
      "Number of Unique values is   3\n",
      "random Value 0\n",
      "random Value 0\n",
      "random Value -9\n",
      "--------------------------\n",
      "for feature : INT_MISC\n",
      "Number of Nulls is   0\n",
      "Number of Unique values is   3\n",
      "random Value 0\n",
      "random Value 0\n",
      "random Value 0\n",
      "--------------------------\n",
      "for feature : INT_ANY\n",
      "Number of Nulls is   0\n",
      "Number of Unique values is   3\n",
      "random Value 0\n",
      "random Value 0\n",
      "random Value -9\n",
      "--------------------------\n",
      "for feature : provstate_code\n",
      "Number of Nulls is   0\n",
      "Number of Unique values is   2766\n",
      "random Value 2760\n",
      "random Value 2672\n",
      "random Value 981\n",
      "--------------------------\n",
      "for feature : city_code\n",
      "Number of Nulls is   0\n",
      "Number of Unique values is   32236\n",
      "random Value 26138\n",
      "random Value 3433\n",
      "random Value 6302\n",
      "--------------------------\n",
      "for feature : targsubtype_code\n",
      "Number of Nulls is   0\n",
      "Number of Unique values is   113\n",
      "random Value 59\n",
      "random Value 46\n",
      "random Value 73\n",
      "--------------------------\n",
      "for feature : corp_code\n",
      "Number of Nulls is   0\n",
      "Number of Unique values is   30039\n",
      "random Value 29745\n",
      "random Value 29745\n",
      "random Value 21282\n",
      "--------------------------\n",
      "for feature : target_code\n",
      "Number of Nulls is   0\n",
      "Number of Unique values is   76194\n",
      "random Value 35441\n",
      "random Value 11421\n",
      "random Value 15599\n",
      "--------------------------\n",
      "for feature : natlty_code\n",
      "Number of Nulls is   0\n",
      "Number of Unique values is   213\n",
      "random Value 49\n",
      "random Value 197\n",
      "random Value 197\n",
      "--------------------------\n",
      "for feature : weapsubtype_code\n",
      "Number of Nulls is   0\n",
      "Number of Unique values is   31\n",
      "random Value 30\n",
      "random Value 26\n",
      "random Value 12\n",
      "--------------------------\n",
      "for feature : country_code\n",
      "Number of Nulls is   0\n",
      "Number of Unique values is   202\n",
      "random Value 45\n",
      "random Value 186\n",
      "random Value 186\n",
      "--------------------------\n",
      "for feature : region_code\n",
      "Number of Nulls is   0\n",
      "Number of Unique values is   12\n",
      "random Value 1\n",
      "random Value 6\n",
      "random Value 6\n",
      "--------------------------\n",
      "for feature : attacktype_code\n",
      "Number of Nulls is   0\n",
      "Number of Unique values is   9\n",
      "random Value 1\n",
      "random Value 2\n",
      "random Value 3\n",
      "--------------------------\n",
      "for feature : targtype_code\n",
      "Number of Nulls is   0\n",
      "Number of Unique values is   22\n",
      "random Value 13\n",
      "random Value 9\n",
      "random Value 12\n",
      "--------------------------\n",
      "for feature : gname_code\n",
      "Number of Nulls is   0\n",
      "Number of Unique values is   3284\n",
      "random Value 1774\n",
      "random Value 3198\n",
      "random Value 639\n",
      "--------------------------\n",
      "for feature : weaptype_code\n",
      "Number of Nulls is   0\n",
      "Number of Unique values is   12\n",
      "random Value 10\n",
      "random Value 2\n",
      "random Value 5\n",
      "--------------------------\n",
      "for feature : dbsource_code\n",
      "Number of Nulls is   0\n",
      "Number of Unique values is   25\n",
      "random Value 13\n",
      "random Value 13\n",
      "random Value 8\n",
      "--------------------------\n"
     ]
    }
   ],
   "source": [
    "show_details() # výpíše nám jednotlivé hododnoty "
   ]
  },
  {
   "cell_type": "code",
   "execution_count": 60,
   "metadata": {},
   "outputs": [
    {
     "data": {
      "text/html": [
       "<div>\n",
       "<style scoped>\n",
       "    .dataframe tbody tr th:only-of-type {\n",
       "        vertical-align: middle;\n",
       "    }\n",
       "\n",
       "    .dataframe tbody tr th {\n",
       "        vertical-align: top;\n",
       "    }\n",
       "\n",
       "    .dataframe thead th {\n",
       "        text-align: right;\n",
       "    }\n",
       "</style>\n",
       "<table border=\"1\" class=\"dataframe\">\n",
       "  <thead>\n",
       "    <tr style=\"text-align: right;\">\n",
       "      <th></th>\n",
       "      <th>iyear</th>\n",
       "      <th>imonth</th>\n",
       "      <th>iday</th>\n",
       "      <th>extended</th>\n",
       "      <th>latitude</th>\n",
       "      <th>longitude</th>\n",
       "      <th>specificity</th>\n",
       "      <th>vicinity</th>\n",
       "      <th>crit1</th>\n",
       "      <th>crit2</th>\n",
       "      <th>...</th>\n",
       "      <th>target_code</th>\n",
       "      <th>natlty_code</th>\n",
       "      <th>weapsubtype_code</th>\n",
       "      <th>country_code</th>\n",
       "      <th>region_code</th>\n",
       "      <th>attacktype_code</th>\n",
       "      <th>targtype_code</th>\n",
       "      <th>gname_code</th>\n",
       "      <th>weaptype_code</th>\n",
       "      <th>dbsource_code</th>\n",
       "    </tr>\n",
       "  </thead>\n",
       "  <tbody>\n",
       "    <tr>\n",
       "      <th>0</th>\n",
       "      <td>1970</td>\n",
       "      <td>7</td>\n",
       "      <td>2</td>\n",
       "      <td>0</td>\n",
       "      <td>18.456792</td>\n",
       "      <td>-69.951164</td>\n",
       "      <td>1.0</td>\n",
       "      <td>0</td>\n",
       "      <td>1</td>\n",
       "      <td>1</td>\n",
       "      <td>...</td>\n",
       "      <td>35441</td>\n",
       "      <td>49</td>\n",
       "      <td>30</td>\n",
       "      <td>45</td>\n",
       "      <td>1</td>\n",
       "      <td>1</td>\n",
       "      <td>13</td>\n",
       "      <td>1774</td>\n",
       "      <td>10</td>\n",
       "      <td>13</td>\n",
       "    </tr>\n",
       "    <tr>\n",
       "      <th>5</th>\n",
       "      <td>1970</td>\n",
       "      <td>1</td>\n",
       "      <td>1</td>\n",
       "      <td>0</td>\n",
       "      <td>37.005105</td>\n",
       "      <td>-89.176269</td>\n",
       "      <td>1.0</td>\n",
       "      <td>0</td>\n",
       "      <td>1</td>\n",
       "      <td>1</td>\n",
       "      <td>...</td>\n",
       "      <td>13988</td>\n",
       "      <td>197</td>\n",
       "      <td>27</td>\n",
       "      <td>186</td>\n",
       "      <td>6</td>\n",
       "      <td>0</td>\n",
       "      <td>12</td>\n",
       "      <td>639</td>\n",
       "      <td>4</td>\n",
       "      <td>8</td>\n",
       "    </tr>\n",
       "    <tr>\n",
       "      <th>6</th>\n",
       "      <td>1970</td>\n",
       "      <td>1</td>\n",
       "      <td>2</td>\n",
       "      <td>0</td>\n",
       "      <td>-34.891151</td>\n",
       "      <td>-56.187214</td>\n",
       "      <td>1.0</td>\n",
       "      <td>0</td>\n",
       "      <td>1</td>\n",
       "      <td>1</td>\n",
       "      <td>...</td>\n",
       "      <td>35251</td>\n",
       "      <td>198</td>\n",
       "      <td>1</td>\n",
       "      <td>187</td>\n",
       "      <td>7</td>\n",
       "      <td>1</td>\n",
       "      <td>12</td>\n",
       "      <td>3048</td>\n",
       "      <td>4</td>\n",
       "      <td>13</td>\n",
       "    </tr>\n",
       "    <tr>\n",
       "      <th>7</th>\n",
       "      <td>1970</td>\n",
       "      <td>1</td>\n",
       "      <td>2</td>\n",
       "      <td>0</td>\n",
       "      <td>37.791927</td>\n",
       "      <td>-122.225906</td>\n",
       "      <td>1.0</td>\n",
       "      <td>0</td>\n",
       "      <td>1</td>\n",
       "      <td>1</td>\n",
       "      <td>...</td>\n",
       "      <td>23515</td>\n",
       "      <td>197</td>\n",
       "      <td>26</td>\n",
       "      <td>186</td>\n",
       "      <td>6</td>\n",
       "      <td>2</td>\n",
       "      <td>20</td>\n",
       "      <td>3163</td>\n",
       "      <td>2</td>\n",
       "      <td>8</td>\n",
       "    </tr>\n",
       "    <tr>\n",
       "      <th>8</th>\n",
       "      <td>1970</td>\n",
       "      <td>1</td>\n",
       "      <td>2</td>\n",
       "      <td>0</td>\n",
       "      <td>43.076592</td>\n",
       "      <td>-89.412488</td>\n",
       "      <td>1.0</td>\n",
       "      <td>0</td>\n",
       "      <td>1</td>\n",
       "      <td>1</td>\n",
       "      <td>...</td>\n",
       "      <td>50337</td>\n",
       "      <td>197</td>\n",
       "      <td>12</td>\n",
       "      <td>186</td>\n",
       "      <td>6</td>\n",
       "      <td>3</td>\n",
       "      <td>9</td>\n",
       "      <td>2117</td>\n",
       "      <td>5</td>\n",
       "      <td>8</td>\n",
       "    </tr>\n",
       "  </tbody>\n",
       "</table>\n",
       "<p>5 rows × 39 columns</p>\n",
       "</div>"
      ],
      "text/plain": [
       "   iyear  imonth  iday  extended   latitude   longitude  specificity  \\\n",
       "0   1970       7     2         0  18.456792  -69.951164          1.0   \n",
       "5   1970       1     1         0  37.005105  -89.176269          1.0   \n",
       "6   1970       1     2         0 -34.891151  -56.187214          1.0   \n",
       "7   1970       1     2         0  37.791927 -122.225906          1.0   \n",
       "8   1970       1     2         0  43.076592  -89.412488          1.0   \n",
       "\n",
       "   vicinity  crit1  crit2  ...  target_code  natlty_code  weapsubtype_code  \\\n",
       "0         0      1      1  ...        35441           49                30   \n",
       "5         0      1      1  ...        13988          197                27   \n",
       "6         0      1      1  ...        35251          198                 1   \n",
       "7         0      1      1  ...        23515          197                26   \n",
       "8         0      1      1  ...        50337          197                12   \n",
       "\n",
       "   country_code  region_code  attacktype_code  targtype_code  gname_code  \\\n",
       "0            45            1                1             13        1774   \n",
       "5           186            6                0             12         639   \n",
       "6           187            7                1             12        3048   \n",
       "7           186            6                2             20        3163   \n",
       "8           186            6                3              9        2117   \n",
       "\n",
       "   weaptype_code  dbsource_code  \n",
       "0             10             13  \n",
       "5              4              8  \n",
       "6              4             13  \n",
       "7              2              8  \n",
       "8              5              8  \n",
       "\n",
       "[5 rows x 39 columns]"
      ]
     },
     "execution_count": 60,
     "metadata": {},
     "output_type": "execute_result"
    }
   ],
   "source": [
    "data.head()  # ukážka datasetu "
   ]
  },
  {
   "cell_type": "code",
   "execution_count": 61,
   "metadata": {},
   "outputs": [
    {
     "name": "stdout",
     "output_type": "stream",
     "text": [
      "<class 'pandas.core.frame.DataFrame'>\n",
      "Int64Index: 159766 entries, 0 to 181690\n",
      "Data columns (total 39 columns):\n",
      " #   Column            Non-Null Count   Dtype  \n",
      "---  ------            --------------   -----  \n",
      " 0   iyear             159766 non-null  int64  \n",
      " 1   imonth            159766 non-null  int64  \n",
      " 2   iday              159766 non-null  int64  \n",
      " 3   extended          159766 non-null  int64  \n",
      " 4   latitude          159766 non-null  float64\n",
      " 5   longitude         159766 non-null  float64\n",
      " 6   specificity       159766 non-null  float64\n",
      " 7   vicinity          159766 non-null  int64  \n",
      " 8   crit1             159766 non-null  int64  \n",
      " 9   crit2             159766 non-null  int64  \n",
      " 10  crit3             159766 non-null  int64  \n",
      " 11  doubtterr         159766 non-null  float64\n",
      " 12  multiple          159766 non-null  float64\n",
      " 13  success           159766 non-null  int64  \n",
      " 14  suicide           159766 non-null  int64  \n",
      " 15  guncertain1       159766 non-null  float64\n",
      " 16  individual        159766 non-null  int64  \n",
      " 17  nkill             159766 non-null  float64\n",
      " 18  nwound            159766 non-null  float64\n",
      " 19  property          159766 non-null  int64  \n",
      " 20  ishostkid         159766 non-null  float64\n",
      " 21  INT_LOG           159766 non-null  int64  \n",
      " 22  INT_IDEO          159766 non-null  int64  \n",
      " 23  INT_MISC          159766 non-null  int64  \n",
      " 24  INT_ANY           159766 non-null  int64  \n",
      " 25  provstate_code    159766 non-null  int32  \n",
      " 26  city_code         159766 non-null  int32  \n",
      " 27  targsubtype_code  159766 non-null  int32  \n",
      " 28  corp_code         159766 non-null  int32  \n",
      " 29  target_code       159766 non-null  int32  \n",
      " 30  natlty_code       159766 non-null  int32  \n",
      " 31  weapsubtype_code  159766 non-null  int32  \n",
      " 32  country_code      159766 non-null  int32  \n",
      " 33  region_code       159766 non-null  int32  \n",
      " 34  attacktype_code   159766 non-null  int32  \n",
      " 35  targtype_code     159766 non-null  int32  \n",
      " 36  gname_code        159766 non-null  int32  \n",
      " 37  weaptype_code     159766 non-null  int32  \n",
      " 38  dbsource_code     159766 non-null  int32  \n",
      "dtypes: float64(9), int32(14), int64(16)\n",
      "memory usage: 45.2 MB\n"
     ]
    }
   ],
   "source": [
    "data.info()  # informacie o súbore nášho datasetu "
   ]
  },
  {
   "cell_type": "code",
   "execution_count": 62,
   "metadata": {},
   "outputs": [],
   "source": [
    "X , y = make_xy('success')  # teraz sú udaje pripravené na vytvorenie modelu "
   ]
  },
  {
   "cell_type": "code",
   "execution_count": 63,
   "metadata": {},
   "outputs": [
    {
     "data": {
      "text/plain": [
       "(159766, 38)"
      ]
     },
     "execution_count": 63,
     "metadata": {},
     "output_type": "execute_result"
    }
   ],
   "source": [
    "X.shape # tvár nášho modelu "
   ]
  },
  {
   "cell_type": "code",
   "execution_count": 64,
   "metadata": {},
   "outputs": [
    {
     "data": {
      "text/plain": [
       "(159766,)"
      ]
     },
     "execution_count": 64,
     "metadata": {},
     "output_type": "execute_result"
    }
   ],
   "source": [
    "y.shape # tvár nášho modelu "
   ]
  },
  {
   "cell_type": "code",
   "execution_count": 65,
   "metadata": {},
   "outputs": [
    {
     "name": "stdout",
     "output_type": "stream",
     "text": [
      "X_train shape is  (119824, 38)\n",
      "X_test shape is  (39942, 38)\n",
      "y_train shape is  (119824,)\n",
      "y_test shape is  (39942,)\n"
     ]
    }
   ],
   "source": [
    "X_train, X_test, y_train, y_test = train_test_split(X, y, test_size=0.25, random_state=44, shuffle =True) \n",
    "\n",
    "# rozdelíme ich na train a test data\n",
    "print('X_train shape is ' , X_train.shape)\n",
    "print('X_test shape is ' , X_test.shape)\n",
    "print('y_train shape is ' , y_train.shape)\n",
    "print('y_test shape is ' , y_test.shape)"
   ]
  },
  {
   "cell_type": "code",
   "execution_count": 66,
   "metadata": {},
   "outputs": [
    {
     "data": {
      "image/png": "[encoded data removed]",
      "text/plain": [
       "<Figure size 432x288 with 1 Axes>"
      ]
     },
     "metadata": {},
     "output_type": "display_data"
    }
   ],
   "source": [
    "cplot('success') # graf počítania výstupov "
   ]
  },
  {
   "cell_type": "code",
   "execution_count": 67,
   "metadata": {},
   "outputs": [
    {
     "data": {
      "text/plain": [
       "GradientBoostingClassifier(random_state=33)"
      ]
     },
     "execution_count": 67,
     "metadata": {},
     "output_type": "execute_result"
    }
   ],
   "source": [
    "from sklearn.ensemble import GradientBoostingClassifier # používame klasifikátor GradientBoostingClassifier z hodnotami 100 a depth 3\n",
    "\n",
    "GBCModel = GradientBoostingClassifier(n_estimators=100,max_depth=3,random_state=33) \n",
    "GBCModel.fit(X_train, y_train)"
   ]
  },
  {
   "cell_type": "code",
   "execution_count": 68,
   "metadata": {},
   "outputs": [
    {
     "name": "stdout",
     "output_type": "stream",
     "text": [
      "GBCModel Train Score is :  0.9472392842836159\n",
      "GBCModel Test Score is :  0.9455460417605528\n"
     ]
    }
   ],
   "source": [
    "print('GBCModel Train Score is : ' , GBCModel.score(X_train, y_train))  # tu vidíme hodnoty naších modelov \n",
    "print('GBCModel Test Score is : ' , GBCModel.score(X_test, y_test))"
   ]
  },
  {
   "cell_type": "code",
   "execution_count": 69,
   "metadata": {},
   "outputs": [
    {
     "name": "stdout",
     "output_type": "stream",
     "text": [
      "Predicted Value for GBCModel is :  [0 1 1 1 1 1 1 1 1 0]\n",
      "Prediction Probabilities Value for GBCModel is :  [[0.53389237 0.46610763]\n",
      " [0.01341194 0.98658806]\n",
      " [0.013064   0.986936  ]\n",
      " [0.04913287 0.95086713]\n",
      " [0.03383446 0.96616554]\n",
      " [0.26060571 0.73939429]\n",
      " [0.07396851 0.92603149]\n",
      " [0.04155095 0.95844905]\n",
      " [0.05149775 0.94850225]\n",
      " [0.89478621 0.10521379]]\n"
     ]
    }
   ],
   "source": [
    "y_pred = GBCModel.predict(X_test)  great , # 94% uspešnosť nážho modelu čiže tento náš model vieme aplikovať na neuronovú sieť  \n",
    "y_pred_prob = GBCModel.predict_proba(X_test)\n",
    "print('Predicted Value for GBCModel is : ' , y_pred[:10])\n",
    "print('Prediction Probabilities Value for GBCModel is : ' , y_pred_prob[:10])"
   ]
  },
  {
   "cell_type": "code",
   "execution_count": 70,
   "metadata": {},
   "outputs": [],
   "source": [
    "data.to_csv(r'simko8.csv') #  zápis do nášho csv súboru ktorým budeme pracovať pri neuronovej sieti "
   ]
  },
  {
   "cell_type": "code",
   "execution_count": null,
   "metadata": {},
   "outputs": [],
   "source": []
  }
 ],
 "metadata": {
  "kernelspec": {
   "display_name": "Python 3",
   "language": "python",
   "name": "python3"
  },
  "language_info": {
   "codemirror_mode": {
    "name": "ipython",
    "version": 3
   },
   "file_extension": ".py",
   "mimetype": "text/x-python",
   "name": "python",
   "nbconvert_exporter": "python",
   "pygments_lexer": "ipython3",
   "version": "3.8.5"
  }
 },
 "nbformat": 4,
 "nbformat_minor": 4
}
