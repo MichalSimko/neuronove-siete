{
 "cells": [
  {
   "cell_type": "code",
   "execution_count": 1,
   "metadata": {},
   "outputs": [
    {
     "data": {
      "text/html": [
       "<div>\n",
       "<style scoped>\n",
       "    .dataframe tbody tr th:only-of-type {\n",
       "        vertical-align: middle;\n",
       "    }\n",
       "\n",
       "    .dataframe tbody tr th {\n",
       "        vertical-align: top;\n",
       "    }\n",
       "\n",
       "    .dataframe thead th {\n",
       "        text-align: right;\n",
       "    }\n",
       "</style>\n",
       "<table border=\"1\" class=\"dataframe\">\n",
       "  <thead>\n",
       "    <tr style=\"text-align: right;\">\n",
       "      <th></th>\n",
       "      <th>Unnamed: 0</th>\n",
       "      <th>iyear</th>\n",
       "      <th>imonth</th>\n",
       "      <th>iday</th>\n",
       "      <th>extended</th>\n",
       "      <th>latitude</th>\n",
       "      <th>longitude</th>\n",
       "      <th>specificity</th>\n",
       "      <th>vicinity</th>\n",
       "      <th>crit1</th>\n",
       "      <th>...</th>\n",
       "      <th>natlty_code</th>\n",
       "      <th>weapsubtype_code</th>\n",
       "      <th>country_code</th>\n",
       "      <th>region_code</th>\n",
       "      <th>Unnamed: 35</th>\n",
       "      <th>targtype_code</th>\n",
       "      <th>gname_code</th>\n",
       "      <th>weaptype_code</th>\n",
       "      <th>dbsource_code</th>\n",
       "      <th>attacktype_code</th>\n",
       "    </tr>\n",
       "  </thead>\n",
       "  <tbody>\n",
       "    <tr>\n",
       "      <th>0</th>\n",
       "      <td>0</td>\n",
       "      <td>1970</td>\n",
       "      <td>7</td>\n",
       "      <td>2</td>\n",
       "      <td>0</td>\n",
       "      <td>18.456792</td>\n",
       "      <td>-69.951164</td>\n",
       "      <td>1</td>\n",
       "      <td>0</td>\n",
       "      <td>1</td>\n",
       "      <td>...</td>\n",
       "      <td>49</td>\n",
       "      <td>30</td>\n",
       "      <td>45</td>\n",
       "      <td>1</td>\n",
       "      <td>NaN</td>\n",
       "      <td>13</td>\n",
       "      <td>1774</td>\n",
       "      <td>10</td>\n",
       "      <td>13</td>\n",
       "      <td>1</td>\n",
       "    </tr>\n",
       "    <tr>\n",
       "      <th>1</th>\n",
       "      <td>5</td>\n",
       "      <td>1970</td>\n",
       "      <td>1</td>\n",
       "      <td>1</td>\n",
       "      <td>0</td>\n",
       "      <td>37.005105</td>\n",
       "      <td>-89.176269</td>\n",
       "      <td>1</td>\n",
       "      <td>0</td>\n",
       "      <td>1</td>\n",
       "      <td>...</td>\n",
       "      <td>197</td>\n",
       "      <td>27</td>\n",
       "      <td>186</td>\n",
       "      <td>6</td>\n",
       "      <td>NaN</td>\n",
       "      <td>12</td>\n",
       "      <td>639</td>\n",
       "      <td>4</td>\n",
       "      <td>8</td>\n",
       "      <td>0</td>\n",
       "    </tr>\n",
       "    <tr>\n",
       "      <th>2</th>\n",
       "      <td>6</td>\n",
       "      <td>1970</td>\n",
       "      <td>1</td>\n",
       "      <td>2</td>\n",
       "      <td>0</td>\n",
       "      <td>-34.891151</td>\n",
       "      <td>-56.187214</td>\n",
       "      <td>1</td>\n",
       "      <td>0</td>\n",
       "      <td>1</td>\n",
       "      <td>...</td>\n",
       "      <td>198</td>\n",
       "      <td>1</td>\n",
       "      <td>187</td>\n",
       "      <td>7</td>\n",
       "      <td>NaN</td>\n",
       "      <td>12</td>\n",
       "      <td>3048</td>\n",
       "      <td>4</td>\n",
       "      <td>13</td>\n",
       "      <td>1</td>\n",
       "    </tr>\n",
       "  </tbody>\n",
       "</table>\n",
       "<p>3 rows × 41 columns</p>\n",
       "</div>"
      ],
      "text/plain": [
       "   Unnamed: 0  iyear  imonth  iday  extended   latitude  longitude  \\\n",
       "0           0   1970       7     2         0  18.456792 -69.951164   \n",
       "1           5   1970       1     1         0  37.005105 -89.176269   \n",
       "2           6   1970       1     2         0 -34.891151 -56.187214   \n",
       "\n",
       "   specificity  vicinity  crit1  ...  natlty_code  weapsubtype_code  \\\n",
       "0            1         0      1  ...           49                30   \n",
       "1            1         0      1  ...          197                27   \n",
       "2            1         0      1  ...          198                 1   \n",
       "\n",
       "   country_code  region_code  Unnamed: 35  targtype_code  gname_code  \\\n",
       "0            45            1          NaN             13        1774   \n",
       "1           186            6          NaN             12         639   \n",
       "2           187            7          NaN             12        3048   \n",
       "\n",
       "   weaptype_code  dbsource_code  attacktype_code  \n",
       "0             10             13                1  \n",
       "1              4              8                0  \n",
       "2              4             13                1  \n",
       "\n",
       "[3 rows x 41 columns]"
      ]
     },
     "execution_count": 1,
     "metadata": {},
     "output_type": "execute_result"
    }
   ],
   "source": [
    "import numpy as np\n",
    "import pandas as pd\n",
    "\n",
    "#dataset import\n",
    "dataset = pd.read_csv(\"simko8.csv\") \n",
    "dataset.head(3)"
   ]
  },
  {
   "cell_type": "code",
   "execution_count": 2,
   "metadata": {},
   "outputs": [
    {
     "name": "stderr",
     "output_type": "stream",
     "text": [
      "C:\\Users\\micha\\anaconda3\\lib\\site-packages\\sklearn\\utils\\extmath.py:770: RuntimeWarning: invalid value encountered in true_divide\n",
      "  updated_mean = (last_sum + new_sum) / updated_sample_count\n",
      "C:\\Users\\micha\\anaconda3\\lib\\site-packages\\sklearn\\utils\\extmath.py:711: RuntimeWarning: Degrees of freedom <= 0 for slice.\n",
      "  result = op(x, *args, **kwargs)\n"
     ]
    },
    {
     "data": {
      "text/plain": [
       "array([[-1.87953649, -2.35509544,  0.17039504, ..., -0.61054329,\n",
       "         2.89200179,  0.42048569],\n",
       "       [-1.87934369, -2.35509544, -1.60454219, ..., -1.81163872,\n",
       "         0.15322536, -0.83794192],\n",
       "       [-1.87930513, -2.35509544, -1.60454219, ...,  0.73764666,\n",
       "         0.15322536,  0.42048569],\n",
       "       ...,\n",
       "       [ 1.68293192,  1.71491349, -0.12542783, ..., -1.61269076,\n",
       "         0.60968809, -0.08288535],\n",
       "       [ 1.68297048,  1.71491349, -0.12542783, ...,  0.85934355,\n",
       "        -0.75970012, -0.08288535],\n",
       "       [ 1.68300904,  1.71491349, -0.12542783, ..., -1.61269076,\n",
       "         0.15322536, -0.08288535]])"
      ]
     },
     "execution_count": 2,
     "metadata": {},
     "output_type": "execute_result"
    }
   ],
   "source": [
    "#načítanie dát pomocou pandas knižnice\n",
    "X = dataset.iloc[:,:40].values #informácie o zariadení okrem cenovej skupiny\n",
    "y = dataset.iloc[:,40:41].values #posledný stĺpec, cenová skupina\n",
    "from sklearn.preprocessing import StandardScaler\n",
    "sc = StandardScaler() \n",
    "X = sc.fit_transform(X) #úprava údajov na štandardizovanú hodnotu.\n",
    "X"
   ]
  },
  {
   "cell_type": "code",
   "execution_count": 3,
   "metadata": {},
   "outputs": [
    {
     "data": {
      "text/plain": [
       "array([[0., 1., 0., ..., 0., 0., 0.],\n",
       "       [1., 0., 0., ..., 0., 0., 0.],\n",
       "       [0., 1., 0., ..., 0., 0., 0.],\n",
       "       ...,\n",
       "       [0., 0., 0., ..., 0., 0., 0.],\n",
       "       [0., 0., 1., ..., 0., 0., 0.],\n",
       "       [1., 0., 0., ..., 0., 0., 0.]])"
      ]
     },
     "execution_count": 3,
     "metadata": {},
     "output_type": "execute_result"
    }
   ],
   "source": [
    "from sklearn.preprocessing import OneHotEncoder \n",
    "ohe = OneHotEncoder(categories='auto') #import OHN\n",
    "y = ohe.fit_transform(y).toarray() # premenenie hodnôt y z int na bool array\n",
    "y"
   ]
  },
  {
   "cell_type": "code",
   "execution_count": 4,
   "metadata": {},
   "outputs": [],
   "source": [
    "from sklearn.model_selection import train_test_split \n",
    "X_train,X_test,y_train,y_test = train_test_split(X,y,test_size = 0.1) # rozdelenie dát na train,test pre X y. test_size urcite podiel training(90%) a test (10%)"
   ]
  },
  {
   "cell_type": "code",
   "execution_count": 5,
   "metadata": {},
   "outputs": [
    {
     "name": "stdout",
     "output_type": "stream",
     "text": [
      "Model: \"sequential\"\n",
      "_________________________________________________________________\n",
      "Layer (type)                 Output Shape              Param #   \n",
      "=================================================================\n",
      "dense (Dense)                (None, 20)                820       \n",
      "_________________________________________________________________\n",
      "dense_1 (Dense)              (None, 12)                252       \n",
      "_________________________________________________________________\n",
      "dense_2 (Dense)              (None, 9)                 117       \n",
      "=================================================================\n",
      "Total params: 1,189\n",
      "Trainable params: 1,189\n",
      "Non-trainable params: 0\n",
      "_________________________________________________________________\n"
     ]
    }
   ],
   "source": [
    "import keras # import neurónovej sieti Keras\n",
    "from keras.models import Sequential #import sekvenčného modelu \n",
    "from keras.layers import Dense #Dense (plne prepojené) vrstvy , spája všetky input hodnoty s output hudnotamy na každej vrstve\n",
    "\n",
    "# Neural network\n",
    "model = Sequential() # sekvenčný model NS\n",
    "#add 2 skryté vrstvy o 20 a 12 dimenzií Dense(20,...) a Dense(12,...)\n",
    "model.add(Dense(20, input_dim=40, activation=\"relu\")) # určuje vstupnú dimenziu 20 (dáta) a aktivačnú funkciu relu\n",
    "model.add(Dense(12, activation=\"relu\")) # podobne určuje vrstvu s 12 dimenziami, keďže ide o sekvenčný model Kerasu, automaticky ho prevezme z 1.\n",
    "model.add(Dense(9, activation=\"softmax\")) # output je nastaveny na 4, pretože cenové dĺžky sú od 1 po 4, teda 4 objekty na klasifikovanie\n",
    "model.summary()\n",
    "# softmax je aktivačná funkcia ktorá berie výstup poslednej vrstvy viactriednej klasifikačnej neurónovej sieti\n",
    "#vezme exponenty každého výstupu a potom normalizuje každé číslo súčtom týchto exponentov, takže celý výstupný vektor sa bude rovnať 1 - všetky pravdepodobnosti by sa mali po súčte rovnať 1"
   ]
  },
  {
   "cell_type": "code",
   "execution_count": 6,
   "metadata": {},
   "outputs": [],
   "source": [
    "model.compile(loss='categorical_crossentropy', optimizer='adam', metrics=['accuracy'])\n",
    "#Adam je optimalizačný algoritmus, ktorý sa dá použiť na aktualizáciu iteratívnych váh v sieti na základe trénovacích dát.\n",
    "#Metrics určuje na základe čoho sa bude presnosť siete merať "
   ]
  },
  {
   "cell_type": "code",
   "execution_count": 7,
   "metadata": {},
   "outputs": [
    {
     "name": "stdout",
     "output_type": "stream",
     "text": [
      "Epoch 1/10\n",
      "701/701 [==============================] - 2s 2ms/step - loss: nan - accuracy: 0.2313 - val_loss: nan - val_accuracy: 0.2232\n",
      "Epoch 2/10\n",
      "701/701 [==============================] - 1s 844us/step - loss: nan - accuracy: 0.2280 - val_loss: nan - val_accuracy: 0.2232\n",
      "Epoch 3/10\n",
      "701/701 [==============================] - 1s 786us/step - loss: nan - accuracy: 0.2292 - val_loss: nan - val_accuracy: 0.2232\n",
      "Epoch 4/10\n",
      "701/701 [==============================] - 1s 859us/step - loss: nan - accuracy: 0.2317 - val_loss: nan - val_accuracy: 0.2232\n",
      "Epoch 5/10\n",
      "701/701 [==============================] - 1s 879us/step - loss: nan - accuracy: 0.2289 - val_loss: nan - val_accuracy: 0.2232\n",
      "Epoch 6/10\n",
      "701/701 [==============================] - 1s 820us/step - loss: nan - accuracy: 0.2277 - val_loss: nan - val_accuracy: 0.2232\n",
      "Epoch 7/10\n",
      "701/701 [==============================] - 1s 846us/step - loss: nan - accuracy: 0.2293 - val_loss: nan - val_accuracy: 0.2232\n",
      "Epoch 8/10\n",
      "701/701 [==============================] - 1s 919us/step - loss: nan - accuracy: 0.2303 - val_loss: nan - val_accuracy: 0.2232\n",
      "Epoch 9/10\n",
      "701/701 [==============================] - 1s 926us/step - loss: nan - accuracy: 0.2304 - val_loss: nan - val_accuracy: 0.2232\n",
      "Epoch 10/10\n",
      "701/701 [==============================] - 1s 927us/step - loss: nan - accuracy: 0.2278 - val_loss: nan - val_accuracy: 0.2232\n"
     ]
    }
   ],
   "source": [
    "history = model.fit(X_train, y_train,validation_data = (X_test,y_test), epochs=10, batch_size=100)\n",
    "# na preprivpravený model sa zavolá funkcia fit ktorá berie ako vstupné parametre dáta z datasetu, epochs = počet iterácií a batch_size kt predstavuje aké množstvo údajov sa spracováva naraz. "
   ]
  },
  {
   "cell_type": "code",
   "execution_count": 8,
   "metadata": {},
   "outputs": [],
   "source": [
    "y_pred = model.predict(X_test)\n",
    "#vygeneruje predikcie na zaklade vstupnych dat\n",
    "pred = list()\n",
    "for i in range(len(y_pred)):\n",
    "    pred.append(np.argmax(y_pred[i])) #argmax vráti pozíciu najväčšej hodnoty (teda prekonvertuje na int z OHT)\n",
    "test = list()\n",
    "for i in range(len(y_test)):\n",
    "    test.append(np.argmax(y_test[i]))"
   ]
  },
  {
   "cell_type": "code",
   "execution_count": 9,
   "metadata": {},
   "outputs": [
    {
     "name": "stdout",
     "output_type": "stream",
     "text": [
      "Presnosť(%): 22.32498394348105\n"
     ]
    }
   ],
   "source": [
    "from sklearn.metrics import accuracy_score\n",
    "a = accuracy_score(pred,test) # porovnáva hodnoty a vyhodnotí na kolko % sa výsledky zhodujú \n",
    "print(\"Presnosť(%):\", a*100)"
   ]
  },
  {
   "cell_type": "code",
   "execution_count": 10,
   "metadata": {},
   "outputs": [
    {
     "data": {
      "image/png": "[encoded data removed]",
      "text/plain": [
       "<Figure size 432x288 with 1 Axes>"
      ]
     },
     "metadata": {
      "needs_background": "light"
     },
     "output_type": "display_data"
    }
   ],
   "source": [
    "import matplotlib.pyplot as plt\n",
    "plt.plot(history.history[\"accuracy\"])\n",
    "plt.plot(history.history[\"val_accuracy\"])\n",
    "plt.title(\"Presnosť modelu\")\n",
    "plt.ylabel(\"Presnosť\")\n",
    "plt.xlabel(\"Epoch\")\n",
    "plt.legend([\"Train\", \"Test\"], loc=\"upper left\")\n",
    "plt.show()"
   ]
  },
  {
   "cell_type": "code",
   "execution_count": 11,
   "metadata": {},
   "outputs": [
    {
     "data": {
      "image/png": "[encoded data removed]",
      "text/plain": [
       "<Figure size 432x288 with 1 Axes>"
      ]
     },
     "metadata": {
      "needs_background": "light"
     },
     "output_type": "display_data"
    }
   ],
   "source": [
    "plt.plot(history.history['loss'])\n",
    "plt.plot(history.history['val_loss'])\n",
    "plt.title('Chybovosť modelu')\n",
    "plt.ylabel('chybovosť')\n",
    "plt.xlabel('Epoch')\n",
    "plt.legend(['Train', 'Test'], loc='upper left')\n",
    "plt.show()"
   ]
  },
  {
   "cell_type": "code",
   "execution_count": null,
   "metadata": {},
   "outputs": [],
   "source": []
  }
 ],
 "metadata": {
  "kernelspec": {
   "display_name": "Python 3",
   "language": "python",
   "name": "python3"
  },
  "language_info": {
   "codemirror_mode": {
    "name": "ipython",
    "version": 3
   },
   "file_extension": ".py",
   "mimetype": "text/x-python",
   "name": "python",
   "nbconvert_exporter": "python",
   "pygments_lexer": "ipython3",
   "version": "3.8.5"
  }
 },
 "nbformat": 4,
 "nbformat_minor": 2
}
